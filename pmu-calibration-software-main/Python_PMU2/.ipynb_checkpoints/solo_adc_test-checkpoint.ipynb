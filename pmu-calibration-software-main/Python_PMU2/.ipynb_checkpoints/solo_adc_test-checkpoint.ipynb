{
 "cells": [
  {
   "cell_type": "code",
   "execution_count": 16,
   "metadata": {},
   "outputs": [
    {
     "ename": "SerialException",
     "evalue": "could not open port 'COM30': PermissionError(13, 'Zugriff verweigert', None, 5)",
     "output_type": "error",
     "traceback": [
      "\u001b[1;31m---------------------------------------------------------------------------\u001b[0m",
      "\u001b[1;31mSerialException\u001b[0m                           Traceback (most recent call last)",
      "\u001b[1;32md:\\work\\pmu_breakout\\Software\\Python_PMU2\\solo_adc_test.ipynb Zelle 1\u001b[0m line \u001b[0;36m2\n\u001b[0;32m     <a href='vscode-notebook-cell:/d%3A/work/pmu_breakout/Software/Python_PMU2/solo_adc_test.ipynb#W0sZmlsZQ%3D%3D?line=16'>17</a>\u001b[0m k\u001b[39m.\u001b[39msmua\u001b[39m.\u001b[39mreset()\n\u001b[0;32m     <a href='vscode-notebook-cell:/d%3A/work/pmu_breakout/Software/Python_PMU2/solo_adc_test.ipynb#W0sZmlsZQ%3D%3D?line=17'>18</a>\u001b[0m k\u001b[39m.\u001b[39msmub\u001b[39m.\u001b[39mreset()\n\u001b[1;32m---> <a href='vscode-notebook-cell:/d%3A/work/pmu_breakout/Software/Python_PMU2/solo_adc_test.ipynb#W0sZmlsZQ%3D%3D?line=19'>20</a>\u001b[0m p \u001b[39m=\u001b[39m pmu_ctrl\u001b[39m.\u001b[39;49mpmu()\n\u001b[0;32m     <a href='vscode-notebook-cell:/d%3A/work/pmu_breakout/Software/Python_PMU2/solo_adc_test.ipynb#W0sZmlsZQ%3D%3D?line=20'>21</a>\u001b[0m \u001b[39m# p.c.verbose = True\u001b[39;00m\n\u001b[0;32m     <a href='vscode-notebook-cell:/d%3A/work/pmu_breakout/Software/Python_PMU2/solo_adc_test.ipynb#W0sZmlsZQ%3D%3D?line=21'>22</a>\u001b[0m \u001b[39m# c = communicator.communicator(False)\u001b[39;00m\n\u001b[0;32m     <a href='vscode-notebook-cell:/d%3A/work/pmu_breakout/Software/Python_PMU2/solo_adc_test.ipynb#W0sZmlsZQ%3D%3D?line=23'>24</a>\u001b[0m k\u001b[39m.\u001b[39msmua\u001b[39m.\u001b[39mmeasure\u001b[39m.\u001b[39mnplc \u001b[39m=\u001b[39m \u001b[39m3\u001b[39m \u001b[39m# 0.001 to 25\u001b[39;00m\n",
      "File \u001b[1;32md:\\work\\pmu_breakout\\Software\\Python_PMU2\\pmu_som\\pmu_ctrl.py:9\u001b[0m, in \u001b[0;36mpmu.__init__\u001b[1;34m(self)\u001b[0m\n\u001b[0;32m      8\u001b[0m \u001b[39mdef\u001b[39;00m \u001b[39m__init__\u001b[39m(\u001b[39mself\u001b[39m) \u001b[39m-\u001b[39m\u001b[39m>\u001b[39m \u001b[39mNone\u001b[39;00m:\n\u001b[1;32m----> 9\u001b[0m     \u001b[39mself\u001b[39m\u001b[39m.\u001b[39mc \u001b[39m=\u001b[39m communicator\u001b[39m.\u001b[39;49mcommunicator(\u001b[39mFalse\u001b[39;49;00m)\n\u001b[0;32m     10\u001b[0m     \u001b[39mself\u001b[39m\u001b[39m.\u001b[39mchannels \u001b[39m=\u001b[39m [pmu_ch(\u001b[39mself\u001b[39m, i) \u001b[39mfor\u001b[39;00m i \u001b[39min\u001b[39;00m \u001b[39mrange\u001b[39m(\u001b[39m4\u001b[39m)]\n",
      "File \u001b[1;32md:\\work\\pmu_breakout\\Software\\Python_PMU2\\pmu_som\\communicator.py:8\u001b[0m, in \u001b[0;36mcommunicator.__init__\u001b[1;34m(self, verbose)\u001b[0m\n\u001b[0;32m      6\u001b[0m \u001b[39mdef\u001b[39;00m \u001b[39m__init__\u001b[39m(\u001b[39mself\u001b[39m, verbose:\u001b[39mbool\u001b[39m\u001b[39m=\u001b[39m\u001b[39mFalse\u001b[39;00m):\n\u001b[0;32m      7\u001b[0m     \u001b[39mself\u001b[39m\u001b[39m.\u001b[39mport \u001b[39m=\u001b[39m \u001b[39mself\u001b[39m\u001b[39m.\u001b[39mfind_device(verbose)\n\u001b[1;32m----> 8\u001b[0m     \u001b[39mself\u001b[39m\u001b[39m.\u001b[39ms \u001b[39m=\u001b[39m serial\u001b[39m.\u001b[39;49mSerial(\u001b[39mself\u001b[39;49m\u001b[39m.\u001b[39;49mport, \u001b[39m115200\u001b[39;49m, timeout\u001b[39m=\u001b[39;49m\u001b[39m5\u001b[39;49m)\n\u001b[0;32m      9\u001b[0m     \u001b[39mself\u001b[39m\u001b[39m.\u001b[39mverbose \u001b[39m=\u001b[39m verbose\n\u001b[0;32m     10\u001b[0m     \u001b[39mself\u001b[39m\u001b[39m.\u001b[39mcom_setup()\n",
      "File \u001b[1;32mc:\\Users\\treinhold.IIN\\Anaconda3\\envs\\pmu_drv\\lib\\site-packages\\serial\\serialwin32.py:33\u001b[0m, in \u001b[0;36mSerial.__init__\u001b[1;34m(self, *args, **kwargs)\u001b[0m\n\u001b[0;32m     31\u001b[0m \u001b[39mself\u001b[39m\u001b[39m.\u001b[39m_overlapped_read \u001b[39m=\u001b[39m \u001b[39mNone\u001b[39;00m\n\u001b[0;32m     32\u001b[0m \u001b[39mself\u001b[39m\u001b[39m.\u001b[39m_overlapped_write \u001b[39m=\u001b[39m \u001b[39mNone\u001b[39;00m\n\u001b[1;32m---> 33\u001b[0m \u001b[39msuper\u001b[39m(Serial, \u001b[39mself\u001b[39m)\u001b[39m.\u001b[39m\u001b[39m__init__\u001b[39m(\u001b[39m*\u001b[39margs, \u001b[39m*\u001b[39m\u001b[39m*\u001b[39mkwargs)\n",
      "File \u001b[1;32mc:\\Users\\treinhold.IIN\\Anaconda3\\envs\\pmu_drv\\lib\\site-packages\\serial\\serialutil.py:244\u001b[0m, in \u001b[0;36mSerialBase.__init__\u001b[1;34m(self, port, baudrate, bytesize, parity, stopbits, timeout, xonxoff, rtscts, write_timeout, dsrdtr, inter_byte_timeout, exclusive, **kwargs)\u001b[0m\n\u001b[0;32m    241\u001b[0m     \u001b[39mraise\u001b[39;00m \u001b[39mValueError\u001b[39;00m(\u001b[39m'\u001b[39m\u001b[39munexpected keyword arguments: \u001b[39m\u001b[39m{!r}\u001b[39;00m\u001b[39m'\u001b[39m\u001b[39m.\u001b[39mformat(kwargs))\n\u001b[0;32m    243\u001b[0m \u001b[39mif\u001b[39;00m port \u001b[39mis\u001b[39;00m \u001b[39mnot\u001b[39;00m \u001b[39mNone\u001b[39;00m:\n\u001b[1;32m--> 244\u001b[0m     \u001b[39mself\u001b[39;49m\u001b[39m.\u001b[39;49mopen()\n",
      "File \u001b[1;32mc:\\Users\\treinhold.IIN\\Anaconda3\\envs\\pmu_drv\\lib\\site-packages\\serial\\serialwin32.py:64\u001b[0m, in \u001b[0;36mSerial.open\u001b[1;34m(self)\u001b[0m\n\u001b[0;32m     62\u001b[0m \u001b[39mif\u001b[39;00m \u001b[39mself\u001b[39m\u001b[39m.\u001b[39m_port_handle \u001b[39m==\u001b[39m win32\u001b[39m.\u001b[39mINVALID_HANDLE_VALUE:\n\u001b[0;32m     63\u001b[0m     \u001b[39mself\u001b[39m\u001b[39m.\u001b[39m_port_handle \u001b[39m=\u001b[39m \u001b[39mNone\u001b[39;00m    \u001b[39m# 'cause __del__ is called anyway\u001b[39;00m\n\u001b[1;32m---> 64\u001b[0m     \u001b[39mraise\u001b[39;00m SerialException(\u001b[39m\"\u001b[39m\u001b[39mcould not open port \u001b[39m\u001b[39m{!r}\u001b[39;00m\u001b[39m: \u001b[39m\u001b[39m{!r}\u001b[39;00m\u001b[39m\"\u001b[39m\u001b[39m.\u001b[39mformat(\u001b[39mself\u001b[39m\u001b[39m.\u001b[39mportstr, ctypes\u001b[39m.\u001b[39mWinError()))\n\u001b[0;32m     66\u001b[0m \u001b[39mtry\u001b[39;00m:\n\u001b[0;32m     67\u001b[0m     \u001b[39mself\u001b[39m\u001b[39m.\u001b[39m_overlapped_read \u001b[39m=\u001b[39m win32\u001b[39m.\u001b[39mOVERLAPPED()\n",
      "\u001b[1;31mSerialException\u001b[0m: could not open port 'COM30': PermissionError(13, 'Zugriff verweigert', None, 5)"
     ]
    }
   ],
   "source": [
    "from tqdm import tqdm\n",
    "\n",
    "# %matplotlib notebook\n",
    "from keithley2600 import Keithley2600\n",
    "from pmu_som import communicator, pmu_ctrl\n",
    "from time import sleep\n",
    "import numpy as np\n",
    "from matplotlib import pyplot as plt\n",
    "from si_prefix import si_format\n",
    "\n",
    "try:\n",
    "    del(c)\n",
    "except:\n",
    "    pass\n",
    "\n",
    "k = Keithley2600('GPIB0::17::INSTR', visa_library='')\n",
    "k.smua.reset()\n",
    "k.smub.reset()\n",
    "\n",
    "p = pmu_ctrl.pmu()\n",
    "# p.c.verbose = True\n",
    "# c = communicator.communicator(False)\n",
    "\n",
    "k.smua.measure.nplc = 3 # 0.001 to 25\n",
    "k.smub.measure.nplc = 25 # 0.001 to 25\n",
    "\n",
    "# k.smua.source.highc = k.smua.ENABLE\n",
    "# k.smua.sense = k.smua.SENSE_REMOTE\n",
    "k.smua.source.output = k.smua.OUTPUT_OFF\n",
    "k.smub.source.output = k.smub.OUTPUT_OFF\n",
    "k.display.screen = k.display.USER\n",
    "k.display.clear()\n",
    "k.display.settext(\"Ready to do $BStuff$N\")\n",
    "k.display.settext(\"ctrl from solo_adc_test.ipynb\")\n",
    "\n",
    "k.beeper.enable = k.beeper.ON\n",
    "k.play_chord(notes=(\"G5\", \"F5\", \"C5\", \"C6\"), durations=0.1)\n",
    "# k.beeper.enable = k.beeper.OFF"
   ]
  },
  {
   "cell_type": "code",
   "execution_count": 2,
   "metadata": {},
   "outputs": [],
   "source": [
    "k.smua.source.output        = k.smua.OUTPUT_OFF\n",
    "k.display.screen            = k.display.SMUA\n",
    "k.display.smua.measure.func = k.display.MEASURE_DCVOLTS\n",
    "    \n",
    "k.smua.measure.rangev       = 6\n",
    "k.smua.measure.autorangei   = k.smua.AUTORANGE_ON\n",
    "k.smua.measure.autorangeu   = k.smua.AUTORANGE_ON\n",
    "k.smua.measure.nplc         = 1\n",
    "    \n",
    "k.smua.source.func          = k.smua.OUTPUT_DCVOLTS\n",
    "k.smua.source.levelv        = 0\n",
    "k.smua.source.limiti        = 10e-3\n",
    "k.smua.source.limitv        = 6\n",
    "# k.smua.source.output        = k.smua.OUTPUT_ON\n"
   ]
  },
  {
   "cell_type": "code",
   "execution_count": 3,
   "metadata": {},
   "outputs": [
    {
     "name": "stdout",
     "output_type": "stream",
     "text": [
      "ADC-ID  = 0x0CDE\n",
      "OFFSET0 = 0x0\n",
      "GAIN0   = 1.333416\n"
     ]
    }
   ],
   "source": [
    "tmp_sens_cnf = 0x8232\n",
    "print(\"ADC-ID  = 0x%04X\" % p.c.command(\"adc_read -r 7 -l 16\", read=True))\n",
    "# p.c.command(\"adc_write -r 0x30 -l 24 -d 0x800000\")\n",
    "OFFSET0 = p.c.command(\"adc_read -r 0x30 -l 24\", read=True) - 0x800000\n",
    "GAIN0 = p.c.command(\"adc_read -r 0x38 -l 24\", read=True) / 0x400000\n",
    "VREF = 2.5\n",
    "\n",
    "print(\"OFFSET0 = 0x%i\" % OFFSET0)\n",
    "print(\"GAIN0   = %f\" % GAIN0)\n",
    "\n",
    "def volt_conversion(val, Bipolar=True, gain=GAIN0, offset=OFFSET0):\n",
    "    res = val#/gain\n",
    "\n",
    "    if Bipolar:\n",
    "        res -= 0x800000\n",
    "    else:\n",
    "        res /= 2\n",
    "    \n",
    "    # res += offset\n",
    "    res *= VREF/0.75/(2**23)\n",
    "    res *= 0x400000/0x555555\n",
    "    \n",
    "    return res"
   ]
  },
  {
   "cell_type": "code",
   "execution_count": 4,
   "metadata": {},
   "outputs": [],
   "source": [
    "#do internal zero scale calibration for adc0\n",
    "d =  1<<15\n",
    "d |= 4<<4 # internal offset cal\n",
    "\n",
    "p.c.command(\"adc_write -r 0x01 -l 16 -d %i\" % d)"
   ]
  },
  {
   "cell_type": "code",
   "execution_count": 11,
   "metadata": {},
   "outputs": [
    {
     "name": "stdout",
     "output_type": "stream",
     "text": [
      "Sysctrl = 0x0\n"
     ]
    }
   ],
   "source": [
    "print(\"Sysctrl = 0x%X\" % p.sys_ctrl)\n",
    "\n",
    "new_sys_ctrl_val  = 0\n",
    "new_sys_ctrl_val |= 0<<18   # CLAMP\n",
    "new_sys_ctrl_val |= 0<<14   # Comparator output\n",
    "new_sys_ctrl_val |= 0<<13   # Comparator bias enable\n",
    "new_sys_ctrl_val |= 0<<12   # DUTGND/ch\n",
    "new_sys_ctrl_val |= 0<<11   # GUARD_ALMn\n",
    "new_sys_ctrl_val |= 1<<10   # CLAMP_ALMn\n",
    "new_sys_ctrl_val |= 1<< 9   # int10k\n",
    "new_sys_ctrl_val |= 0<< 8   # guard_en\n",
    "new_sys_ctrl_val |= 2<< 6   # GAIN\n",
    "new_sys_ctrl_val |= 1<< 5   # TMP ENABLE\n",
    "new_sys_ctrl_val |= 3<< 4   # TMP\n",
    "new_sys_ctrl_val |= 1<< 2   # LATCHED\n",
    "\n",
    "p.sys_ctrl = new_sys_ctrl_val\n",
    "\n",
    "# print(\"new Sysctrl = 0x%X\" % p.sys_ctrl)\n",
    "# print(\"new Sysctrl = 0x%X\" % p.sys_ctrl)"
   ]
  },
  {
   "cell_type": "code",
   "execution_count": 7,
   "metadata": {},
   "outputs": [
    {
     "name": "stdout",
     "output_type": "stream",
     "text": [
      "PMU-Reg = 0x1E060\n"
     ]
    }
   ],
   "source": [
    "print(\"PMU-Reg = 0x%X\" % p.channels[0].pmu_reg)\n",
    "\n",
    "new_pmu_reg_val  = 0\n",
    "new_pmu_reg_val |= 1<<21    # CH_EN\n",
    "new_pmu_reg_val |= 2<<19    # FORCE = High-Z FOHx voltage\n",
    "new_pmu_reg_val |= 3<<15    # C     = +/- 2mA\n",
    "new_pmu_reg_val |= 1<<13    # MEAS  = MEASOUTx to Vsens\n",
    "new_pmu_reg_val |= 1<<12    # FIN   = force input to fin_dac\n",
    "new_pmu_reg_val |= 1<<11    # SF = system force\n",
    "new_pmu_reg_val |= 1<<10    # SS = system sense\n",
    "\n",
    "\n",
    "p.channels[0].pmu_reg = new_pmu_reg_val\n",
    "\n",
    "# print(\"PMU-Reg = 0x%X\" % p.channels[0].pmu_reg)"
   ]
  },
  {
   "cell_type": "code",
   "execution_count": 9,
   "metadata": {},
   "outputs": [
    {
     "name": "stdout",
     "output_type": "stream",
     "text": [
      "0x000000\n",
      "A0_in = -2.500 V\n"
     ]
    }
   ],
   "source": [
    "bipol = 1\n",
    "\n",
    "d =  1<<15\n",
    "d |= 0<<12\n",
    "d |= 0x0<<5 # inp = ain0\n",
    "d |= 0x4<<0 # inn = ain4 = 2.5V\n",
    "p.c.command(\"adc_write -r 0x10 -l 16 -d %i\" % d) # ch setup\n",
    "d =  bipol<<12 # bipol\n",
    "d |= 1<<11 # refbuf+\n",
    "d |= 1<<10 # refbuf-\n",
    "d |= 1<< 9 # ainbuf+\n",
    "d |= 1<< 8 # ainbuf-\n",
    "d |= 2<<4  # ref_sel = int\n",
    "p.c.command(\"adc_write -r 0x20 -l 16 -d %i\" % d) # setup con\n",
    "\n",
    "# c.command(\"adc_write -r 0x01 -l 16 -d 0x8010\") # do single conversion\n",
    "p.c.command(\"adc_write -r 0x01 -l 16 -d 0xA010\") # do single conversion\n",
    "raw = p.c.command(\"adc_read -r 0x44 -l 24\", True) # get data\n",
    "print(\"0x%06X\"%raw)\n",
    "conv = volt_conversion(raw, bipol)\n",
    "print(\"A0_in = %sV\" % si_format(conv, precision=3))\n"
   ]
  },
  {
   "cell_type": "code",
   "execution_count": 14,
   "metadata": {},
   "outputs": [
    {
     "name": "stderr",
     "output_type": "stream",
     "text": [
      "  0%|          | 0/20 [00:00<?, ?it/s]\n"
     ]
    },
    {
     "ename": "SerialException",
     "evalue": "WriteFile failed (PermissionError(13, 'Zugriff verweigert', None, 5))",
     "output_type": "error",
     "traceback": [
      "\u001b[1;31m---------------------------------------------------------------------------\u001b[0m",
      "\u001b[1;31mSerialException\u001b[0m                           Traceback (most recent call last)",
      "\u001b[1;32md:\\work\\pmu_breakout\\Software\\Python_PMU2\\solo_adc_test.ipynb Zelle 8\u001b[0m line \u001b[0;36m1\n\u001b[0;32m      <a href='vscode-notebook-cell:/d%3A/work/pmu_breakout/Software/Python_PMU2/solo_adc_test.ipynb#W5sZmlsZQ%3D%3D?line=7'>8</a>\u001b[0m k\u001b[39m.\u001b[39msmua\u001b[39m.\u001b[39msource\u001b[39m.\u001b[39mlevelv \u001b[39m=\u001b[39m v\n\u001b[0;32m      <a href='vscode-notebook-cell:/d%3A/work/pmu_breakout/Software/Python_PMU2/solo_adc_test.ipynb#W5sZmlsZQ%3D%3D?line=8'>9</a>\u001b[0m \u001b[39m# sleep(0.1)\u001b[39;00m\n\u001b[1;32m---> <a href='vscode-notebook-cell:/d%3A/work/pmu_breakout/Software/Python_PMU2/solo_adc_test.ipynb#W5sZmlsZQ%3D%3D?line=9'>10</a>\u001b[0m p\u001b[39m.\u001b[39;49mc\u001b[39m.\u001b[39;49mcommand(\u001b[39m\"\u001b[39;49m\u001b[39madc_write -r 0x01 -l 16 -d 0x8010\u001b[39;49m\u001b[39m\"\u001b[39;49m) \u001b[39m# do single conversion\u001b[39;00m\n\u001b[0;32m     <a href='vscode-notebook-cell:/d%3A/work/pmu_breakout/Software/Python_PMU2/solo_adc_test.ipynb#W5sZmlsZQ%3D%3D?line=10'>11</a>\u001b[0m \u001b[39m# sleep(0.1)\u001b[39;00m\n\u001b[0;32m     <a href='vscode-notebook-cell:/d%3A/work/pmu_breakout/Software/Python_PMU2/solo_adc_test.ipynb#W5sZmlsZQ%3D%3D?line=11'>12</a>\u001b[0m raw \u001b[39m=\u001b[39m p\u001b[39m.\u001b[39mc\u001b[39m.\u001b[39mcommand(\u001b[39m\"\u001b[39m\u001b[39madc_read -r 0x44 -l 24\u001b[39m\u001b[39m\"\u001b[39m, \u001b[39mTrue\u001b[39;00m) \u001b[39m# get data\u001b[39;00m\n",
      "File \u001b[1;32md:\\work\\pmu_breakout\\Software\\Python_PMU2\\pmu_som\\communicator.py:63\u001b[0m, in \u001b[0;36mcommunicator.command\u001b[1;34m(self, command_string, read)\u001b[0m\n\u001b[0;32m     59\u001b[0m tx_str \u001b[39m=\u001b[39m command_string \u001b[39m+\u001b[39m \u001b[39m\"\u001b[39m\u001b[39m\\n\u001b[39;00m\u001b[39m\"\u001b[39m\n\u001b[0;32m     61\u001b[0m sleep(\u001b[39mself\u001b[39m\u001b[39m.\u001b[39mcom_delay)\n\u001b[1;32m---> 63\u001b[0m \u001b[39mself\u001b[39;49m\u001b[39m.\u001b[39;49ms\u001b[39m.\u001b[39;49mwrite(tx_str\u001b[39m.\u001b[39;49mencode())\n\u001b[0;32m     65\u001b[0m \u001b[39mif\u001b[39;00m read \u001b[39mis\u001b[39;00m \u001b[39mFalse\u001b[39;00m:\n\u001b[0;32m     66\u001b[0m     \u001b[39mreturn\u001b[39;00m\n",
      "File \u001b[1;32mc:\\Users\\treinhold.IIN\\Anaconda3\\envs\\pmu_drv\\lib\\site-packages\\serial\\serialwin32.py:317\u001b[0m, in \u001b[0;36mSerial.write\u001b[1;34m(self, data)\u001b[0m\n\u001b[0;32m    315\u001b[0m \u001b[39mif\u001b[39;00m \u001b[39mself\u001b[39m\u001b[39m.\u001b[39m_write_timeout \u001b[39m!=\u001b[39m \u001b[39m0\u001b[39m:  \u001b[39m# if blocking (None) or w/ write timeout (>0)\u001b[39;00m\n\u001b[0;32m    316\u001b[0m     \u001b[39mif\u001b[39;00m \u001b[39mnot\u001b[39;00m success \u001b[39mand\u001b[39;00m win32\u001b[39m.\u001b[39mGetLastError() \u001b[39mnot\u001b[39;00m \u001b[39min\u001b[39;00m (win32\u001b[39m.\u001b[39mERROR_SUCCESS, win32\u001b[39m.\u001b[39mERROR_IO_PENDING):\n\u001b[1;32m--> 317\u001b[0m         \u001b[39mraise\u001b[39;00m SerialException(\u001b[39m\"\u001b[39m\u001b[39mWriteFile failed (\u001b[39m\u001b[39m{!r}\u001b[39;00m\u001b[39m)\u001b[39m\u001b[39m\"\u001b[39m\u001b[39m.\u001b[39mformat(ctypes\u001b[39m.\u001b[39mWinError()))\n\u001b[0;32m    319\u001b[0m     \u001b[39m# Wait for the write to complete.\u001b[39;00m\n\u001b[0;32m    320\u001b[0m     \u001b[39m#~ win32.WaitForSingleObject(self._overlapped_write.hEvent, win32.INFINITE)\u001b[39;00m\n\u001b[0;32m    321\u001b[0m     win32\u001b[39m.\u001b[39mGetOverlappedResult(\u001b[39mself\u001b[39m\u001b[39m.\u001b[39m_port_handle, \u001b[39mself\u001b[39m\u001b[39m.\u001b[39m_overlapped_write, ctypes\u001b[39m.\u001b[39mbyref(n), \u001b[39mTrue\u001b[39;00m)\n",
      "\u001b[1;31mSerialException\u001b[0m: WriteFile failed (PermissionError(13, 'Zugriff verweigert', None, 5))"
     ]
    }
   ],
   "source": [
    "k.smua.source.output        = k.smua.OUTPUT_ON\n",
    "adc_meas = list()\n",
    "smu_meas = list()\n",
    "\n",
    "v_set = np.linspace(0, 5, 20)\n",
    "# v_set = np.linspace(-10, 10, 20)\n",
    "\n",
    "for v in tqdm(v_set):\n",
    "    k.smua.source.levelv = v\n",
    "    # sleep(0.1)\n",
    "    p.c.command(\"adc_write -r 0x01 -l 16 -d 0x8010\") # do single conversion\n",
    "    # sleep(0.1)\n",
    "    raw = p.c.command(\"adc_read -r 0x44 -l 24\", True) # get data\n",
    "    # print(\"0x%06X\" % raw)\n",
    "    conv = volt_conversion(raw, bipol)\n",
    "    # conv *= 2/5     # seistive devider\n",
    "    # conv *= 10      # gain\n",
    "    adc_meas.append(conv)\n",
    "    smu_meas.append(k.smua.measure.v())\n",
    "    # print(\"A0_in = %sV\" % si_format(conv, precision=3))\n",
    "\n",
    "adc_meas = (np.array(adc_meas)+2.5) # adc level\n",
    "adc_meas = adc_meas * 5 / 2         # adc level with resistive input devider\n",
    "adc_meas = (adc_meas - (0.45 * 4.95) + 0.5) * 5\n",
    "# adc_meas = np.array(adc_meas)\n",
    "smu_meas = np.array(smu_meas)\n",
    "\n",
    "plt.plot(v_set,adc_meas, \".:\", label=\"adc\")\n",
    "plt.plot(v_set,smu_meas, \".:\", label=\"smu\")\n",
    "plt.legend()\n",
    "plt.grid()\n",
    "plt.show()\n",
    "\n",
    "plt.plot(v_set,(smu_meas-adc_meas), \":\", label=\"error\")\n",
    "plt.legend()\n",
    "plt.grid()\n",
    "plt.show()\n",
    "\n",
    "k.smua.source.output        = k.smua.OUTPUT_OFF\n",
    "adc_meas"
   ]
  },
  {
   "cell_type": "code",
   "execution_count": 29,
   "metadata": {},
   "outputs": [
    {
     "name": "stdout",
     "output_type": "stream",
     "text": [
      "0x873B03\n",
      "0.1882946491241455\n",
      "T = 121.597692°C\n"
     ]
    }
   ],
   "source": [
    "# measure_temperature\n",
    "p.c.command(\"adc_write -r 0x10 -l 16 -d %i\" %(tmp_sens_cnf))\n",
    "p.c.command(\"adc_write -r 0x01 -l 16 -d 0x8010\")\n",
    "sleep(0.1)\n",
    "tmp_raw = p.c.command(\"adc_read -r 0x44 -l 24\", True)\n",
    "print(\"0x%06X\" % tmp_raw)\n",
    "\n",
    "tmp_volt = volt_conversion(tmp_raw, True)\n",
    "print(tmp_volt)\n",
    "\n",
    "tmp = (tmp_volt/477e-6) - 273.15\n",
    "print(\"T = %f°C\" % tmp)"
   ]
  },
  {
   "cell_type": "code",
   "execution_count": 46,
   "metadata": {},
   "outputs": [],
   "source": [
    "p.reset()"
   ]
  },
  {
   "cell_type": "code",
   "execution_count": null,
   "metadata": {},
   "outputs": [],
   "source": []
  }
 ],
 "metadata": {
  "kernelspec": {
   "display_name": "pmu_drv",
   "language": "python",
   "name": "python3"
  },
  "language_info": {
   "codemirror_mode": {
    "name": "ipython",
    "version": 3
   },
   "file_extension": ".py",
   "mimetype": "text/x-python",
   "name": "python",
   "nbconvert_exporter": "python",
   "pygments_lexer": "ipython3",
   "version": "3.10.11"
  },
  "orig_nbformat": 4
 },
 "nbformat": 4,
 "nbformat_minor": 2
}
