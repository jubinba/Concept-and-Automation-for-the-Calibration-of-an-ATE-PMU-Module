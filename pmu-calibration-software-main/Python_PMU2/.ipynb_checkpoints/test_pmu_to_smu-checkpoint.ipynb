{
 "cells": [
  {
   "cell_type": "code",
   "execution_count": 1,
   "metadata": {},
   "outputs": [],
   "source": [
    "from keithley2600 import Keithley2600\n",
    "from pmu_som import communicator, pmu_ctrl, pmu_cal\n",
    "from time import sleep\n",
    "import numpy as np\n",
    "from matplotlib import pyplot as plt\n",
    "from tqdm import tqdm\n",
    "\n",
    "try:\n",
    "    del(p.c)\n",
    "except:\n",
    "    pass\n",
    "\n",
    "k = Keithley2600('GPIB0::17::INSTR', visa_library='')\n",
    "k.smua.reset()\n",
    "k.smub.reset()\n",
    "\n",
    "# p = communicator.communicator(False)\n",
    "p = pmu_ctrl.pmu()\n",
    "\n",
    "\n",
    "k.smua.measure.autorangev = k.smua.AUTORANGE_ON\n",
    "k.smua.measure.autorangei = k.smua.AUTORANGE_ON\n",
    "k.smua.measure.nplc = 10 # 0.001 to 25\n",
    "\n",
    "k.smua.source.highc = k.smua.ENABLE\n",
    "k.smua.source.func = k.smua.OUTPUT_DCAMPS\n",
    "k.smua.source.leveli = 0\n",
    "k.smua.source.output = k.smua.OUTPUT_ON\n",
    "\n",
    "k.beeper.enable = k.beeper.ON\n",
    "k.play_chord(notes=(\"G6\", \"F6\", \"C6\", \"C6\"), durations=0.1)\n",
    "k.beeper.enable = k.beeper.OFF"
   ]
  },
  {
   "cell_type": "code",
   "execution_count": 17,
   "metadata": {},
   "outputs": [
    {
     "data": {
      "text/plain": [
       "'0x21fc60'"
      ]
     },
     "execution_count": 17,
     "metadata": {},
     "output_type": "execute_result"
    }
   ],
   "source": [
    "\n",
    "# p.decode_pmu_reg()\n",
    "# hex(p.channels[0].pmu_reg)"
   ]
  },
  {
   "cell_type": "code",
   "execution_count": 3,
   "metadata": {},
   "outputs": [
    {
     "data": {
      "text/plain": [
       "{'CL': 0,\n",
       " 'CPOLH': 0,\n",
       " 'CPBIASEN': 0,\n",
       " 'DUTGND/CH': 0,\n",
       " 'GUARD ALM': 0,\n",
       " 'CLAMP ALM': 0,\n",
       " 'INT10K': 0,\n",
       " 'GUARD EN': 0,\n",
       " 'GAIN': 0,\n",
       " 'TMP ENABLE': 1,\n",
       " 'TMP': 0,\n",
       " 'LATCHED': 0}"
      ]
     },
     "execution_count": 3,
     "metadata": {},
     "output_type": "execute_result"
    }
   ],
   "source": [
    "p.decode_sys_ctrl()"
   ]
  },
  {
   "cell_type": "code",
   "execution_count": 3,
   "metadata": {},
   "outputs": [
    {
     "data": {
      "text/plain": [
       "(-4.92334e-12, 0.00394871)"
      ]
     },
     "execution_count": 3,
     "metadata": {},
     "output_type": "execute_result"
    }
   ],
   "source": [
    "p.change_sys_ctrl({\n",
    "    \"DUTGND/CH\" : 1,\n",
    "    \"INT10K\"    : 1\n",
    "})\n",
    "\n",
    "p.channels[0].change_pmu_reg({\n",
    "    \"SF0\"   : 1,\n",
    "    \"SS0\"   : 1,\n",
    "    \"FIN\"   : 1,\n",
    "    \"CH EN\" : 1\n",
    "})\n",
    "sleep(0.5)\n",
    "k.smua.measure.iv()"
   ]
  },
  {
   "cell_type": "code",
   "execution_count": 4,
   "metadata": {},
   "outputs": [
    {
     "name": "stdout",
     "output_type": "stream",
     "text": [
      "X1\n"
     ]
    },
    {
     "data": {
      "text/html": [
       "<div>\n",
       "<style scoped>\n",
       "    .dataframe tbody tr th:only-of-type {\n",
       "        vertical-align: middle;\n",
       "    }\n",
       "\n",
       "    .dataframe tbody tr th {\n",
       "        vertical-align: top;\n",
       "    }\n",
       "\n",
       "    .dataframe thead th {\n",
       "        text-align: right;\n",
       "    }\n",
       "</style>\n",
       "<table border=\"1\" class=\"dataframe\">\n",
       "  <thead>\n",
       "    <tr style=\"text-align: right;\">\n",
       "      <th></th>\n",
       "      <th>Offset</th>\n",
       "      <th>FIN_I_5u</th>\n",
       "      <th>FIN_I_20u</th>\n",
       "      <th>FIN_I_200u</th>\n",
       "      <th>FIN_I_2m</th>\n",
       "      <th>FIN_I_ext</th>\n",
       "      <th>FIN_U</th>\n",
       "      <th>CLL_I</th>\n",
       "      <th>CLL_U</th>\n",
       "      <th>CLH_I</th>\n",
       "      <th>CLH_U</th>\n",
       "    </tr>\n",
       "  </thead>\n",
       "  <tbody>\n",
       "    <tr>\n",
       "      <th>0</th>\n",
       "      <td>42130</td>\n",
       "      <td>32768</td>\n",
       "      <td>32768</td>\n",
       "      <td>32768</td>\n",
       "      <td>32768</td>\n",
       "      <td>32768</td>\n",
       "      <td>32768</td>\n",
       "      <td>0</td>\n",
       "      <td>0</td>\n",
       "      <td>65535</td>\n",
       "      <td>65535</td>\n",
       "    </tr>\n",
       "    <tr>\n",
       "      <th>1</th>\n",
       "      <td>42130</td>\n",
       "      <td>32768</td>\n",
       "      <td>32768</td>\n",
       "      <td>32768</td>\n",
       "      <td>32768</td>\n",
       "      <td>32768</td>\n",
       "      <td>32768</td>\n",
       "      <td>0</td>\n",
       "      <td>0</td>\n",
       "      <td>65535</td>\n",
       "      <td>65535</td>\n",
       "    </tr>\n",
       "    <tr>\n",
       "      <th>2</th>\n",
       "      <td>42130</td>\n",
       "      <td>32768</td>\n",
       "      <td>32768</td>\n",
       "      <td>32768</td>\n",
       "      <td>32768</td>\n",
       "      <td>32768</td>\n",
       "      <td>32768</td>\n",
       "      <td>0</td>\n",
       "      <td>0</td>\n",
       "      <td>65535</td>\n",
       "      <td>65535</td>\n",
       "    </tr>\n",
       "    <tr>\n",
       "      <th>3</th>\n",
       "      <td>42130</td>\n",
       "      <td>32768</td>\n",
       "      <td>32768</td>\n",
       "      <td>32768</td>\n",
       "      <td>32768</td>\n",
       "      <td>32768</td>\n",
       "      <td>32768</td>\n",
       "      <td>0</td>\n",
       "      <td>0</td>\n",
       "      <td>65535</td>\n",
       "      <td>65535</td>\n",
       "    </tr>\n",
       "  </tbody>\n",
       "</table>\n",
       "</div>"
      ],
      "text/plain": [
       "   Offset  FIN_I_5u  FIN_I_20u  FIN_I_200u  FIN_I_2m  FIN_I_ext  FIN_U  CLL_I  \\\n",
       "0   42130     32768      32768       32768     32768      32768  32768      0   \n",
       "1   42130     32768      32768       32768     32768      32768  32768      0   \n",
       "2   42130     32768      32768       32768     32768      32768  32768      0   \n",
       "3   42130     32768      32768       32768     32768      32768  32768      0   \n",
       "\n",
       "   CLL_U  CLH_I  CLH_U  \n",
       "0      0  65535  65535  \n",
       "1      0  65535  65535  \n",
       "2      0  65535  65535  \n",
       "3      0  65535  65535  "
      ]
     },
     "execution_count": 4,
     "metadata": {},
     "output_type": "execute_result"
    }
   ],
   "source": [
    "print(\"X1\")\n",
    "X1 = p.read_dac_regs(reg=\"X1\")\n",
    "X1"
   ]
  },
  {
   "cell_type": "code",
   "execution_count": 5,
   "metadata": {},
   "outputs": [
    {
     "name": "stdout",
     "output_type": "stream",
     "text": [
      "C\n"
     ]
    },
    {
     "data": {
      "text/html": [
       "<div>\n",
       "<style scoped>\n",
       "    .dataframe tbody tr th:only-of-type {\n",
       "        vertical-align: middle;\n",
       "    }\n",
       "\n",
       "    .dataframe tbody tr th {\n",
       "        vertical-align: top;\n",
       "    }\n",
       "\n",
       "    .dataframe thead th {\n",
       "        text-align: right;\n",
       "    }\n",
       "</style>\n",
       "<table border=\"1\" class=\"dataframe\">\n",
       "  <thead>\n",
       "    <tr style=\"text-align: right;\">\n",
       "      <th></th>\n",
       "      <th>FIN_I_5u</th>\n",
       "      <th>FIN_I_20u</th>\n",
       "      <th>FIN_I_200u</th>\n",
       "      <th>FIN_I_2m</th>\n",
       "      <th>FIN_I_ext</th>\n",
       "      <th>FIN_U</th>\n",
       "      <th>CLL_I</th>\n",
       "      <th>CLL_U</th>\n",
       "      <th>CLH_I</th>\n",
       "      <th>CLH_U</th>\n",
       "    </tr>\n",
       "  </thead>\n",
       "  <tbody>\n",
       "    <tr>\n",
       "      <th>0</th>\n",
       "      <td>32768</td>\n",
       "      <td>32768</td>\n",
       "      <td>32768</td>\n",
       "      <td>32768</td>\n",
       "      <td>32768</td>\n",
       "      <td>32768</td>\n",
       "      <td>32768</td>\n",
       "      <td>32768</td>\n",
       "      <td>32768</td>\n",
       "      <td>32768</td>\n",
       "    </tr>\n",
       "    <tr>\n",
       "      <th>1</th>\n",
       "      <td>32768</td>\n",
       "      <td>32768</td>\n",
       "      <td>32768</td>\n",
       "      <td>32768</td>\n",
       "      <td>32768</td>\n",
       "      <td>32768</td>\n",
       "      <td>32768</td>\n",
       "      <td>32768</td>\n",
       "      <td>32768</td>\n",
       "      <td>32768</td>\n",
       "    </tr>\n",
       "    <tr>\n",
       "      <th>2</th>\n",
       "      <td>32768</td>\n",
       "      <td>32768</td>\n",
       "      <td>32768</td>\n",
       "      <td>32768</td>\n",
       "      <td>32768</td>\n",
       "      <td>32768</td>\n",
       "      <td>32768</td>\n",
       "      <td>32768</td>\n",
       "      <td>32768</td>\n",
       "      <td>32768</td>\n",
       "    </tr>\n",
       "    <tr>\n",
       "      <th>3</th>\n",
       "      <td>32768</td>\n",
       "      <td>32768</td>\n",
       "      <td>32768</td>\n",
       "      <td>32768</td>\n",
       "      <td>32768</td>\n",
       "      <td>32768</td>\n",
       "      <td>32768</td>\n",
       "      <td>32768</td>\n",
       "      <td>32768</td>\n",
       "      <td>32768</td>\n",
       "    </tr>\n",
       "  </tbody>\n",
       "</table>\n",
       "</div>"
      ],
      "text/plain": [
       "   FIN_I_5u  FIN_I_20u  FIN_I_200u  FIN_I_2m  FIN_I_ext  FIN_U  CLL_I  CLL_U  \\\n",
       "0     32768      32768       32768     32768      32768  32768  32768  32768   \n",
       "1     32768      32768       32768     32768      32768  32768  32768  32768   \n",
       "2     32768      32768       32768     32768      32768  32768  32768  32768   \n",
       "3     32768      32768       32768     32768      32768  32768  32768  32768   \n",
       "\n",
       "   CLH_I  CLH_U  \n",
       "0  32768  32768  \n",
       "1  32768  32768  \n",
       "2  32768  32768  \n",
       "3  32768  32768  "
      ]
     },
     "execution_count": 5,
     "metadata": {},
     "output_type": "execute_result"
    }
   ],
   "source": [
    "print(\"C\")\n",
    "C = p.read_dac_regs(reg=\"C\")\n",
    "C"
   ]
  },
  {
   "cell_type": "code",
   "execution_count": 6,
   "metadata": {},
   "outputs": [
    {
     "name": "stdout",
     "output_type": "stream",
     "text": [
      "M\n"
     ]
    },
    {
     "data": {
      "text/html": [
       "<div>\n",
       "<style scoped>\n",
       "    .dataframe tbody tr th:only-of-type {\n",
       "        vertical-align: middle;\n",
       "    }\n",
       "\n",
       "    .dataframe tbody tr th {\n",
       "        vertical-align: top;\n",
       "    }\n",
       "\n",
       "    .dataframe thead th {\n",
       "        text-align: right;\n",
       "    }\n",
       "</style>\n",
       "<table border=\"1\" class=\"dataframe\">\n",
       "  <thead>\n",
       "    <tr style=\"text-align: right;\">\n",
       "      <th></th>\n",
       "      <th>FIN_I_5u</th>\n",
       "      <th>FIN_I_20u</th>\n",
       "      <th>FIN_I_200u</th>\n",
       "      <th>FIN_I_2m</th>\n",
       "      <th>FIN_I_ext</th>\n",
       "      <th>FIN_U</th>\n",
       "      <th>CLL_I</th>\n",
       "      <th>CLL_U</th>\n",
       "      <th>CLH_I</th>\n",
       "      <th>CLH_U</th>\n",
       "    </tr>\n",
       "  </thead>\n",
       "  <tbody>\n",
       "    <tr>\n",
       "      <th>0</th>\n",
       "      <td>65535</td>\n",
       "      <td>65535</td>\n",
       "      <td>65535</td>\n",
       "      <td>65535</td>\n",
       "      <td>65535</td>\n",
       "      <td>65535</td>\n",
       "      <td>65535</td>\n",
       "      <td>65535</td>\n",
       "      <td>65535</td>\n",
       "      <td>65535</td>\n",
       "    </tr>\n",
       "    <tr>\n",
       "      <th>1</th>\n",
       "      <td>65535</td>\n",
       "      <td>65535</td>\n",
       "      <td>65535</td>\n",
       "      <td>65535</td>\n",
       "      <td>65535</td>\n",
       "      <td>65535</td>\n",
       "      <td>65535</td>\n",
       "      <td>65535</td>\n",
       "      <td>65535</td>\n",
       "      <td>65535</td>\n",
       "    </tr>\n",
       "    <tr>\n",
       "      <th>2</th>\n",
       "      <td>65535</td>\n",
       "      <td>65535</td>\n",
       "      <td>65535</td>\n",
       "      <td>65535</td>\n",
       "      <td>65535</td>\n",
       "      <td>65535</td>\n",
       "      <td>65535</td>\n",
       "      <td>65535</td>\n",
       "      <td>65535</td>\n",
       "      <td>65535</td>\n",
       "    </tr>\n",
       "    <tr>\n",
       "      <th>3</th>\n",
       "      <td>65535</td>\n",
       "      <td>65535</td>\n",
       "      <td>65535</td>\n",
       "      <td>65535</td>\n",
       "      <td>65535</td>\n",
       "      <td>65535</td>\n",
       "      <td>65535</td>\n",
       "      <td>65535</td>\n",
       "      <td>65535</td>\n",
       "      <td>65535</td>\n",
       "    </tr>\n",
       "  </tbody>\n",
       "</table>\n",
       "</div>"
      ],
      "text/plain": [
       "   FIN_I_5u  FIN_I_20u  FIN_I_200u  FIN_I_2m  FIN_I_ext  FIN_U  CLL_I  CLL_U  \\\n",
       "0     65535      65535       65535     65535      65535  65535  65535  65535   \n",
       "1     65535      65535       65535     65535      65535  65535  65535  65535   \n",
       "2     65535      65535       65535     65535      65535  65535  65535  65535   \n",
       "3     65535      65535       65535     65535      65535  65535  65535  65535   \n",
       "\n",
       "   CLH_I  CLH_U  \n",
       "0  65535  65535  \n",
       "1  65535  65535  \n",
       "2  65535  65535  \n",
       "3  65535  65535  "
      ]
     },
     "execution_count": 6,
     "metadata": {},
     "output_type": "execute_result"
    }
   ],
   "source": [
    "print(\"M\")\n",
    "M = p.read_dac_regs(reg=\"M\")\n",
    "M"
   ]
  },
  {
   "cell_type": "code",
   "execution_count": 8,
   "metadata": {},
   "outputs": [
    {
     "data": {
      "text/html": [
       "<div>\n",
       "<style scoped>\n",
       "    .dataframe tbody tr th:only-of-type {\n",
       "        vertical-align: middle;\n",
       "    }\n",
       "\n",
       "    .dataframe tbody tr th {\n",
       "        vertical-align: top;\n",
       "    }\n",
       "\n",
       "    .dataframe thead th {\n",
       "        text-align: right;\n",
       "    }\n",
       "</style>\n",
       "<table border=\"1\" class=\"dataframe\">\n",
       "  <thead>\n",
       "    <tr style=\"text-align: right;\">\n",
       "      <th></th>\n",
       "      <th>CLH_I</th>\n",
       "      <th>CLH_U</th>\n",
       "      <th>CLL_I</th>\n",
       "      <th>CLL_U</th>\n",
       "      <th>FIN_I_200u</th>\n",
       "      <th>FIN_I_20u</th>\n",
       "      <th>FIN_I_2m</th>\n",
       "      <th>FIN_I_5u</th>\n",
       "      <th>FIN_I_ext</th>\n",
       "      <th>FIN_U</th>\n",
       "      <th>Offset</th>\n",
       "    </tr>\n",
       "  </thead>\n",
       "  <tbody>\n",
       "    <tr>\n",
       "      <th>0</th>\n",
       "      <td>65535.0</td>\n",
       "      <td>65535.0</td>\n",
       "      <td>0.0</td>\n",
       "      <td>0.0</td>\n",
       "      <td>32768.0</td>\n",
       "      <td>32768.0</td>\n",
       "      <td>32768.0</td>\n",
       "      <td>32768.0</td>\n",
       "      <td>32768.0</td>\n",
       "      <td>32768.0</td>\n",
       "      <td>NaN</td>\n",
       "    </tr>\n",
       "    <tr>\n",
       "      <th>1</th>\n",
       "      <td>65535.0</td>\n",
       "      <td>65535.0</td>\n",
       "      <td>0.0</td>\n",
       "      <td>0.0</td>\n",
       "      <td>32768.0</td>\n",
       "      <td>32768.0</td>\n",
       "      <td>32768.0</td>\n",
       "      <td>32768.0</td>\n",
       "      <td>32768.0</td>\n",
       "      <td>32768.0</td>\n",
       "      <td>NaN</td>\n",
       "    </tr>\n",
       "    <tr>\n",
       "      <th>2</th>\n",
       "      <td>65535.0</td>\n",
       "      <td>65535.0</td>\n",
       "      <td>0.0</td>\n",
       "      <td>0.0</td>\n",
       "      <td>32768.0</td>\n",
       "      <td>32768.0</td>\n",
       "      <td>32768.0</td>\n",
       "      <td>32768.0</td>\n",
       "      <td>32768.0</td>\n",
       "      <td>32768.0</td>\n",
       "      <td>NaN</td>\n",
       "    </tr>\n",
       "    <tr>\n",
       "      <th>3</th>\n",
       "      <td>65535.0</td>\n",
       "      <td>65535.0</td>\n",
       "      <td>0.0</td>\n",
       "      <td>0.0</td>\n",
       "      <td>32768.0</td>\n",
       "      <td>32768.0</td>\n",
       "      <td>32768.0</td>\n",
       "      <td>32768.0</td>\n",
       "      <td>32768.0</td>\n",
       "      <td>32768.0</td>\n",
       "      <td>NaN</td>\n",
       "    </tr>\n",
       "  </tbody>\n",
       "</table>\n",
       "</div>"
      ],
      "text/plain": [
       "     CLH_I    CLH_U  CLL_I  CLL_U  FIN_I_200u  FIN_I_20u  FIN_I_2m  FIN_I_5u  \\\n",
       "0  65535.0  65535.0    0.0    0.0     32768.0    32768.0   32768.0   32768.0   \n",
       "1  65535.0  65535.0    0.0    0.0     32768.0    32768.0   32768.0   32768.0   \n",
       "2  65535.0  65535.0    0.0    0.0     32768.0    32768.0   32768.0   32768.0   \n",
       "3  65535.0  65535.0    0.0    0.0     32768.0    32768.0   32768.0   32768.0   \n",
       "\n",
       "   FIN_I_ext    FIN_U  Offset  \n",
       "0    32768.0  32768.0     NaN  \n",
       "1    32768.0  32768.0     NaN  \n",
       "2    32768.0  32768.0     NaN  \n",
       "3    32768.0  32768.0     NaN  "
      ]
     },
     "execution_count": 8,
     "metadata": {},
     "output_type": "execute_result"
    }
   ],
   "source": [
    "X2 = ((M+1)/(2**16)*X1) + (C - (2**15))\n",
    "X2"
   ]
  },
  {
   "cell_type": "code",
   "execution_count": 9,
   "metadata": {},
   "outputs": [
    {
     "name": "stdout",
     "output_type": "stream",
     "text": [
      "0    0.000076\n",
      "1    0.000076\n",
      "2    0.000076\n",
      "3    0.000076\n",
      "dtype: float64\n"
     ]
    }
   ],
   "source": [
    "VREF = 5.\n",
    "DUTGND = 0\n",
    "\n",
    "X2_FIN_U = ((M[\"FIN_U\"]+1)/(2**16) * X1[\"FIN_U\"]) + (C[\"FIN_U\"] - (2**15))\n",
    "# X2_FIN_U\n",
    "\n",
    "VOUT_FIN_U = 4.5 * VREF * (X2[\"FIN_U\"]/(2**16)) - (3.5 * VREF * (X1[\"Offset\"]/(2**16))) + DUTGND\n",
    "print(VOUT_FIN_U)\n",
    "\n"
   ]
  },
  {
   "cell_type": "code",
   "execution_count": 11,
   "metadata": {},
   "outputs": [
    {
     "data": {
      "text/plain": [
       "42130"
      ]
     },
     "execution_count": 11,
     "metadata": {},
     "output_type": "execute_result"
    }
   ],
   "source": [
    "# X1[\"Offset\"]\n",
    "X1.loc[0, \"Offset\"]"
   ]
  },
  {
   "cell_type": "code",
   "execution_count": 68,
   "metadata": {},
   "outputs": [
    {
     "name": "stdout",
     "output_type": "stream",
     "text": [
      "-0.0892744\n"
     ]
    }
   ],
   "source": [
    "p.c.verbose = True\n",
    "\n",
    "k.smua.measure.filter.enable = k.smua.FILTER_OFF\n",
    "k.smua.measure.filter.type = k.smua.FILTER_MEDIAN\n",
    "k.smua.measure.filter.count = 100\n",
    "\n",
    "p.channels[0].write_dac(\n",
    "    data=0x8300,\n",
    "    dac_reg=\"FIN_U\",\n",
    "    reg=\"C\"\n",
    ")\n",
    "\n",
    "\n",
    "\n",
    "p.channels[0].write_dac(\n",
    "    data=0x8000,\n",
    "    dac_reg=\"FIN_U\",\n",
    "    reg=\"X1\"\n",
    ")\n",
    "\n",
    "sleep(1)\n",
    "print(k.smua.measure.v())\n",
    "    "
   ]
  },
  {
   "cell_type": "code",
   "execution_count": 40,
   "metadata": {},
   "outputs": [
    {
     "data": {
      "text/plain": [
       "-0.44609"
      ]
     },
     "execution_count": 40,
     "metadata": {},
     "output_type": "execute_result"
    }
   ],
   "source": [
    "k.smua.measure.v()"
   ]
  },
  {
   "cell_type": "code",
   "execution_count": 53,
   "metadata": {},
   "outputs": [
    {
     "name": "stderr",
     "output_type": "stream",
     "text": [
      "100%|██████████| 256/256 [01:22<00:00,  3.11it/s]\n"
     ]
    }
   ],
   "source": [
    "#measure curve\n",
    "measure_data = list()\n",
    "measure_points = np.arange(0, 0xFFFF, 0x0100)\n",
    "output_voltage = list()\n",
    "\n",
    "for d in tqdm(measure_points):\n",
    "    p.channels[0].write_dac(\n",
    "        data= d,\n",
    "        dac_reg=\"FIN_U\",\n",
    "        reg=\"X1\"\n",
    "    )\n",
    "    output_voltage.append((4.5 * 5 * d / (2**16)) - 11.25)\n",
    "    sleep(0.1)\n",
    "    measure_data.append(k.smua.measure.v())\n"
   ]
  },
  {
   "cell_type": "code",
   "execution_count": 56,
   "metadata": {},
   "outputs": [
    {
     "data": {
      "text/plain": [
       "[<matplotlib.lines.Line2D at 0x20a578aa950>]"
      ]
     },
     "execution_count": 56,
     "metadata": {},
     "output_type": "execute_result"
    },
    {
     "data": {
      "image/png": "[encoded data removed]",
      "text/plain": [
       "<Figure size 640x480 with 1 Axes>"
      ]
     },
     "metadata": {},
     "output_type": "display_data"
    }
   ],
   "source": [
    "# plt.plot(output_voltage, measure_data)\n",
    "plt.plot(output_voltage, (np.array(output_voltage) - np.array(measure_data)))\n",
    "# output_voltage"
   ]
  },
  {
   "cell_type": "code",
   "execution_count": 2,
   "metadata": {},
   "outputs": [
    {
     "name": "stdout",
     "output_type": "stream",
     "text": [
      "FIN ZERO CALIBRATION for channel 0\n",
      "Setup Channel for Cal\n"
     ]
    },
    {
     "ename": "KeyError",
     "evalue": "'Offset'",
     "output_type": "error",
     "traceback": [
      "\u001b[1;31m---------------------------------------------------------------------------\u001b[0m",
      "\u001b[1;31mKeyError\u001b[0m                                  Traceback (most recent call last)",
      "Cell \u001b[1;32mIn[2], line 1\u001b[0m\n\u001b[1;32m----> 1\u001b[0m pmu_cal\u001b[39m.\u001b[39;49mcalibrate(p, k)\n",
      "File \u001b[1;32me:\\work\\pmu_breakout\\Software\\Python_PMU2\\pmu_som\\pmu_cal.py:43\u001b[0m, in \u001b[0;36mcalibrate\u001b[1;34m(pmu, keithley)\u001b[0m\n\u001b[0;32m     41\u001b[0m pmu\u001b[39m.\u001b[39mreset()\n\u001b[0;32m     42\u001b[0m \u001b[39mfor\u001b[39;00m ch \u001b[39min\u001b[39;00m \u001b[39mrange\u001b[39m(\u001b[39m3\u001b[39m):\n\u001b[1;32m---> 43\u001b[0m     cal_FIN_U_zero(pmu, keithley, ch)\n",
      "File \u001b[1;32me:\\work\\pmu_breakout\\Software\\Python_PMU2\\pmu_som\\pmu_cal.py:29\u001b[0m, in \u001b[0;36mcal_FIN_U_zero\u001b[1;34m(pmu, keithley, channel)\u001b[0m\n\u001b[0;32m     26\u001b[0m \u001b[39mprint\u001b[39m(\u001b[39m\"\u001b[39m\u001b[39mSetup Channel for Cal\u001b[39m\u001b[39m\"\u001b[39m)\n\u001b[0;32m     27\u001b[0m pmu_ch\u001b[39m.\u001b[39mpmu_reg \u001b[39m=\u001b[39m pmu_reg_channel_on_sys\n\u001b[0;32m     28\u001b[0m vout_fin_u \u001b[39m=\u001b[39m    (\u001b[39m4.5\u001b[39m \u001b[39m*\u001b[39m VREF \u001b[39m*\u001b[39m \u001b[39m0.5\u001b[39m) \\\n\u001b[1;32m---> 29\u001b[0m               \u001b[39m-\u001b[39m (\u001b[39m3.5\u001b[39m \u001b[39m*\u001b[39m VREF \u001b[39m*\u001b[39m (CAL_SETUP_VALUES[\u001b[39m\"\u001b[39;49m\u001b[39mX1\u001b[39;49m\u001b[39m\"\u001b[39;49m][\u001b[39m\"\u001b[39;49m\u001b[39mOffset\u001b[39;49m\u001b[39m\"\u001b[39;49m]\u001b[39m/\u001b[39m(\u001b[39m2\u001b[39m\u001b[39m*\u001b[39m\u001b[39m*\u001b[39m\u001b[39m16\u001b[39m))) \\\n\u001b[0;32m     30\u001b[0m               \u001b[39m+\u001b[39m DUTGND\n\u001b[0;32m     31\u001b[0m \u001b[39mprint\u001b[39m(\u001b[39m\"\u001b[39m\u001b[39mvoltage set in DAC reg = \u001b[39m\u001b[39m%f\u001b[39;00m\u001b[39m\"\u001b[39m \u001b[39m%\u001b[39m vout_fin_u)\n\u001b[0;32m     33\u001b[0m m_meas \u001b[39m=\u001b[39m keithley\u001b[39m.\u001b[39msmua\u001b[39m.\u001b[39mmeasure\u001b[39m.\u001b[39mv()\n",
      "\u001b[1;31mKeyError\u001b[0m: 'Offset'"
     ]
    }
   ],
   "source": [
    "pmu_cal.calibrate(p, k)"
   ]
  },
  {
   "attachments": {},
   "cell_type": "markdown",
   "metadata": {},
   "source": [
    "# Amp Mode"
   ]
  },
  {
   "cell_type": "code",
   "execution_count": 6,
   "metadata": {},
   "outputs": [],
   "source": [
    "### AMP - MODE\n",
    "\n",
    "p.write_all_PMU_REGS(0x1E060)\n",
    "\n",
    "# k.smua.source.func = k.smua.OUTPUT_DCAMPS\n",
    "k.smua.source.func = k.smua.OUTPUT_DCVOLTS\n",
    "k.smua.source.levelv = 0\n",
    "k.smua.source.limiti = 100e-3\n",
    "k.smua.source.limitv = 13\n",
    "# k.smua.source.output = k.smua.OUTPUT_OFF\n",
    "k.smua.source.output = k.smua.OUTPUT_ON\n",
    "\n",
    "\n",
    "p.channels[0].change_pmu_reg({\n",
    "    \"CH EN\": 1,     #Channel enable\n",
    "    \"FORCE\": 1,     #FI\n",
    "    \"SS0\"  : 1,\n",
    "    \"SF0\"  : 1,\n",
    "    # \"C\"    : 0,     #5uA Range\n",
    "    # \"C\"    : 1,     #20uA Range\n",
    "    # \"C\"    : 2,     #200uA Range\n",
    "    # \"C\"    : 3,     #2mA Range\n",
    "    \"C\"    : 4,     #80mA Range\n",
    "    \"FIN\"  : 1\n",
    "})\n",
    "\n",
    "p.change_sys_ctrl({\n",
    "    \"DUTGND/CH\" : 1,\n",
    "    \"INT10K\"    : 1,\n",
    "    \"TMP ENABLE\": 1,\n",
    "    \"TMP\"       : 3 # Thermal shutdown at 100°C\n",
    "})"
   ]
  },
  {
   "cell_type": "code",
   "execution_count": 11,
   "metadata": {},
   "outputs": [],
   "source": [
    "p.channels[0].write_dac(\n",
    "    data= 0x0000,\n",
    "    dac_reg=\"FIN_I_5u\",\n",
    "    reg=\"X1\"\n",
    ")"
   ]
  },
  {
   "cell_type": "code",
   "execution_count": 7,
   "metadata": {},
   "outputs": [
    {
     "name": "stderr",
     "output_type": "stream",
     "text": [
      "100%|██████████| 128/128 [00:41<00:00,  3.05it/s]\n"
     ]
    },
    {
     "data": {
      "image/png": "[encoded data removed]",
      "text/plain": [
       "<Figure size 640x480 with 1 Axes>"
      ]
     },
     "metadata": {},
     "output_type": "display_data"
    }
   ],
   "source": [
    "#measure curve\n",
    "measure_data = list()\n",
    "measure_points = np.arange(0, 0xFFFF, 0x0200)\n",
    "# output_voltage = list()\n",
    "\n",
    "for d in tqdm(measure_points):\n",
    "    p.channels[0].write_dac(\n",
    "        data= d,\n",
    "        # dac_reg=\"FIN_I_5u\",\n",
    "        # dac_reg=\"FIN_I_20u\",\n",
    "        # dac_reg=\"FIN_I_200u\",\n",
    "        # dac_reg=\"FIN_I_2m\",\n",
    "        dac_reg=\"FIN_I_ext\",\n",
    "        reg=\"X1\"\n",
    "    )\n",
    "    # output_voltage.append((4.5 * 5 * d / (2**16)) - 11.25)\n",
    "    sleep(0.1)\n",
    "    measure_data.append(-(k.smua.measure.i()))\n",
    "    \n",
    "plt.plot(measure_points, measure_data)\n",
    "\n",
    "p.write_all_PMU_REGS(0x1E060)"
   ]
  },
  {
   "cell_type": "code",
   "execution_count": 20,
   "metadata": {},
   "outputs": [
    {
     "name": "stdout",
     "output_type": "stream",
     "text": [
      "40960\n",
      "0.0187431\n",
      "0.01875\n",
      "2.288818359375e-06\n"
     ]
    }
   ],
   "source": [
    "print(measure_points[80])\n",
    "print(measure_data[80])\n",
    "\n",
    "print((4.5 * 5 * (measure_points[80]-(2**15))) / ((2**16)*15*10))\n",
    "print((4.5 * 5 / (2**16)) / (15*10))"
   ]
  },
  {
   "cell_type": "code",
   "execution_count": 16,
   "metadata": {},
   "outputs": [
    {
     "data": {
      "text/plain": [
       "40960"
      ]
     },
     "execution_count": 16,
     "metadata": {},
     "output_type": "execute_result"
    }
   ],
   "source": [
    "measure_points[80]"
   ]
  },
  {
   "cell_type": "code",
   "execution_count": null,
   "metadata": {},
   "outputs": [],
   "source": []
  }
 ],
 "metadata": {
  "kernelspec": {
   "display_name": "pmu_drv",
   "language": "python",
   "name": "python3"
  },
  "language_info": {
   "codemirror_mode": {
    "name": "ipython",
    "version": 3
   },
   "file_extension": ".py",
   "mimetype": "text/x-python",
   "name": "python",
   "nbconvert_exporter": "python",
   "pygments_lexer": "ipython3",
   "version": "3.10.11"
  },
  "orig_nbformat": 4
 },
 "nbformat": 4,
 "nbformat_minor": 2
}
