{
 "cells": [
  {
   "cell_type": "code",
   "execution_count": 15,
   "metadata": {},
   "outputs": [
    {
     "name": "stdout",
     "output_type": "stream",
     "text": [
      "Available COMs:\n",
      "\tCOM1 : Kommunikationsanschluss (COM1) [ACPI\\PNP0501\\0]\n",
      "0 >\tCOM28: USB-SERIAL CH340 (COM28)       [USB VID:PID=1A86:7523 SER=6 LOCATION=1-7.4]\n",
      "using COM28\n"
     ]
    }
   ],
   "source": [
    "import serial\n",
    "from serial.tools import list_ports\n",
    "from time import sleep\n",
    "\n",
    "ports = list_ports.comports()\n",
    "possible_devices = list()\n",
    "\n",
    "print(\"Available COMs:\")\n",
    "i = 0\n",
    "for p in ports:\n",
    "    if \"CH340\" in p.description:\n",
    "        possible_devices.append(p.device)\n",
    "        print(\"%i >\" %i, end='')\n",
    "        i += 1\n",
    "    print(\"\\t%-5s: %-30s [%s]\" %(p.device, p.description, p.hwid))\n",
    "\n",
    "if len(possible_devices) == 0:\n",
    "    print(\"No usable device found\")\n",
    "    i = None\n",
    "elif len(possible_devices) > 1:\n",
    "    print(\"tpye Nr. to use:\")\n",
    "    i = int(input())\n",
    "else:\n",
    "    i = 0\n",
    "    \n",
    "if i is not None:\n",
    "    print(\"using %s\" % possible_devices[i])\n",
    "    s = serial.Serial(possible_devices[i], 115200, timeout=5)"
   ]
  },
  {
   "cell_type": "code",
   "execution_count": 22,
   "metadata": {},
   "outputs": [
    {
     "name": "stdout",
     "output_type": "stream",
     "text": [
      "restart\n",
      "Restarting...\n",
      "ets Jun  8 2016 00:22:57\n",
      "\n",
      "rst:0xc (SW_CPU_RESET),boot:0x13 (SPI_FAST_FLASH_BOOT)\n",
      "configsip: 0, SPIWP:0xee\n",
      "clk_drv:0x00,q_drv:0x00,d_drv:0x00,cs0_drv:0x00,hd_drv:0x00,wp_drv:0x00\n",
      "mode:DIO, clock div:1\n",
      "load:0x3fff0030,len:6940\n",
      "ho 0 tail 12 room 4\n",
      "load:0x40078000,len:15500\n",
      "load:0x40080400,len:3844\n",
      "entry 0x4008064c\n",
      "\u001b[0;32mI (29) boot: ESP-IDF 5.0.1 2nd stage bootloader\u001b[0m\n",
      "\u001b[0;32mI (29) boot: compile time 10:44:23\u001b[0m\n",
      "\u001b[0;32mI (29) boot: chip revision: v1.0\u001b[0m\n",
      "\u001b[0;32mI (32) boot.esp32: SPI Speed      : 80MHz\u001b[0m\n",
      "\u001b[0;32mI (37) boot.esp32: SPI Mode       : DIO\u001b[0m\n",
      "\u001b[0;32mI (41) boot.esp32: SPI Flash Size : 4MB\u001b[0m\n",
      "\u001b[0;32mI (46) boot: Enabling RNG early entropy source...\u001b[0m\n",
      "\u001b[0;32mI (51) boot: Partition Table:\u001b[0m\n",
      "\u001b[0;32mI (55) boot: ## Label            Usage          Type ST Offset   Length\u001b[0m\n",
      "\u001b[0;32mI (62) boot:  0 nvs              WiFi data        01 02 00009000 00006000\u001b[0m\n",
      "\u001b[0;32mI (69) boot:  1 phy_init         RF data          01 01 0000f000 00001000\u001b[0m\n",
      "\u001b[0;32mI (77) boot:  2 factory          factory app      00 00 00010000 00100000\u001b[0m\n",
      "\u001b[0;32mI (84) boot: End of partition table\u001b[0m\n",
      "\u001b[0;32mI (88) esp_image: segment 0: paddr=00010020 vaddr=3f400020 size=0cfa4h ( 53156) map\u001b[0m\n",
      "\u001b[0;32mI (113) esp_image: segment 1: paddr=0001cfcc vaddr=3ffb0000 size=02028h (  8232) load\u001b[0m\n",
      "\u001b[0;32mI (116) esp_image: segment 2: paddr=0001effc vaddr=40080000 size=0101ch (  4124) load\u001b[0m\n",
      "\u001b[0;32mI (120) esp_image: segment 3: paddr=00020020 vaddr=400d0020 size=2785ch (161884) map\u001b[0m\n",
      "\u001b[0;32mI (176) esp_image: segment 4: paddr=00047884 vaddr=4008101c size=0d21ch ( 53788) load\u001b[0m\n",
      "\u001b[0;32mI (202) boot: Loaded app from partition at offset 0x10000\u001b[0m\n",
      "\u001b[0;32mI (202) boot: Disabling RNG early entropy source...\u001b[0m\n",
      "\u001b[0;32mI (214) cpu_start: Pro cpu up.\u001b[0m\n",
      "\u001b[0;32mI (214) cpu_start: Starting app cpu, entry point is 0x40082294\u001b[0m\n",
      "\u001b[0;32mI (200) cpu_start: App cpu up.\u001b[0m\n",
      "\u001b[0;32mI (228) cpu_start: Pro cpu start user code\u001b[0m\n",
      "\u001b[0;32mI (228) cpu_start: cpu freq: 160000000 Hz\u001b[0m\n",
      "\u001b[0;32mI (228) cpu_start: Application information:\u001b[0m\n",
      "\u001b[0;32mI (233) cpu_start: Project name:     Uebung\u001b[0m\n",
      "\u001b[0;32mI (238) cpu_start: App version:      eabbb28-dirty\u001b[0m\n",
      "\u001b[0;32mI (243) cpu_start: Compile time:     May 12 2023 10:40:02\u001b[0m\n",
      "\u001b[0;32mI (250) cpu_start: ELF file SHA256:  1d5a5adc28eaf792...\u001b[0m\n",
      "\u001b[0;32mI (256) cpu_start: ESP-IDF:          5.0.1\u001b[0m\n",
      "\u001b[0;32mI (260) cpu_start: Min chip rev:     v0.0\u001b[0m\n",
      "\u001b[0;32mI (265) cpu_start: Max chip rev:     v3.99 \u001b[0m\n",
      "\u001b[0;32mI (270) cpu_start: Chip rev:         v1.0\u001b[0m\n",
      "\u001b[0;32mI (275) heap_init: Initializing. RAM available for dynamic allocation:\u001b[0m\n",
      "\u001b[0;32mI (282) heap_init: At 3FFAE6E0 len 00001920 (6 KiB): DRAM\u001b[0m\n",
      "\u001b[0;32mI (288) heap_init: At 3FFB2A38 len 0002D5C8 (181 KiB): DRAM\u001b[0m\n",
      "\u001b[0;32mI (294) heap_init: At 3FFE0440 len 00003AE0 (14 KiB): D/IRAM\u001b[0m\n",
      "\u001b[0;32mI (300) heap_init: At 3FFE4350 len 0001BCB0 (111 KiB): D/IRAM\u001b[0m\n",
      "\u001b[0;32mI (307) heap_init: At 4008E238 len 00011DC8 (71 KiB): IRAM\u001b[0m\n",
      "\u001b[0;32mI (314) spi_flash: detected chip: generic\u001b[0m\n",
      "\u001b[0;32mI (318) spi_flash: flash io: dio\u001b[0m\n",
      "\u001b[0;32mI (322) cpu_start: Starting scheduler on PRO CPU.\u001b[0m\n",
      "\u001b[0;32mI (0) cpu_start: Starting scheduler on APP CPU.\u001b[0m\n",
      "\u001b[5n\n",
      "Type 'help' to get the list of commands.\n",
      "Use UP/DOWN arrows to navigate through command history.\n",
      "Press TAB when typing command name to auto-complete.\n",
      "\n",
      "Your terminal application does not support escape sequences.\n",
      "\n",
      "Line editing and history features are disabled.\n",
      "\n",
      "On Windows, try using Putty instead.\n",
      "esp> \n",
      "print_mode -m RAW\n",
      "Print mode set to RAW\n",
      "esp> \n"
     ]
    }
   ],
   "source": [
    "s.flushInput()\n",
    "s.flushOutput()\n",
    "s.write(b\"restart\\n\")\n",
    "sleep(1)\n",
    "print(s.read_all().decode())\n",
    "s.write(b\"print_mode -m RAW\\n\")\n",
    "sleep(0.1)\n",
    "print(s.read_all().decode())"
   ]
  },
  {
   "cell_type": "code",
   "execution_count": 3,
   "metadata": {},
   "outputs": [
    {
     "name": "stdout",
     "output_type": "stream",
     "text": [
      "adc_read -r 7 -l 16\n",
      "r[CDE#10]\n",
      "esp> \n"
     ]
    }
   ],
   "source": [
    "s.write(b\"adc_read -r 7 -l 16\\n\")\n",
    "sleep(0.5)\n",
    "print(s.read_all().decode())"
   ]
  },
  {
   "cell_type": "code",
   "execution_count": 4,
   "metadata": {},
   "outputs": [
    {
     "name": "stdout",
     "output_type": "stream",
     "text": [
      "pmu_rPMU -c 1\n",
      "t[11000000#1D]\n",
      "r[1E060#18]\n",
      "esp> \n"
     ]
    }
   ],
   "source": [
    "s.write(b\"pmu_rPMU -c 1\\n\")\n",
    "sleep(0.5)\n",
    "print(s.read_all().decode())"
   ]
  },
  {
   "cell_type": "code",
   "execution_count": 5,
   "metadata": {},
   "outputs": [
    {
     "name": "stdout",
     "output_type": "stream",
     "text": [
      "pmu_reset\n",
      "Setting reset for PMU\n",
      "esp> mem_read -a 0 -l 8\n",
      "r[55#8]\n",
      "esp> \n",
      "pmu_release\n",
      "Releasing reset for PMU\n",
      "esp> \n"
     ]
    }
   ],
   "source": [
    "s.write(b\"pmu_reset\\n\")\n",
    "s.write(b\"mem_read -a 0 -l 8\\n\")\n",
    "sleep(0.5)\n",
    "print(s.read_all().decode())\n",
    "s.write(b\"pmu_release\\n\")\n",
    "sleep(0.2)\n",
    "print(s.read_all().decode())"
   ]
  },
  {
   "cell_type": "code",
   "execution_count": 12,
   "metadata": {},
   "outputs": [
    {
     "name": "stdout",
     "output_type": "stream",
     "text": [
      "5501#10\n",
      "21761\n",
      "16\n"
     ]
    }
   ],
   "source": [
    "adr = 0\n",
    "\n",
    "s.flushInput()\n",
    "s.write(b\"pmu_reset\\n\")\n",
    "s.write(b\"mem_read -a 0 -l 16\\n\")\n",
    "\n",
    "sleep(0.2)\n",
    "\n",
    "s.read_until(b\"r[\")\n",
    "raw_data_str = s.read_until(b\"]\")[:-1].decode()\n",
    "\n",
    "print(raw_data_str)\n",
    "\n",
    "data, length = raw_data_str.split(\"#\")\n",
    "\n",
    "data = int(data, 16)\n",
    "length = int(length, 16)\n",
    "\n",
    "print(data)\n",
    "print(length)"
   ]
  },
  {
   "cell_type": "code",
   "execution_count": 33,
   "metadata": {},
   "outputs": [],
   "source": [
    "s.close()"
   ]
  },
  {
   "cell_type": "code",
   "execution_count": 1,
   "metadata": {},
   "outputs": [
    {
     "name": "stdout",
     "output_type": "stream",
     "text": [
      "Available COMs:\n",
      "\tCOM1 : Kommunikationsanschluss (COM1) [ACPI\\PNP0501\\0]\n",
      "0 >\tCOM28: USB-SERIAL CH340 (COM28)       [USB VID:PID=1A86:7523 SER=6 LOCATION=1-7.4]\n",
      "restart\n",
      "Restarting...\n",
      "ets Jun  8 2016 00:22:57\n",
      "\n",
      "rst:0xc (SW_CPU_RESET),boot:0x13 (SPI_FAST_FLASH_BOOT)\n",
      "configsip: 0, SPIWP:0xee\n",
      "clk_drv:0x00,q_drv:0x00,d_drv:0x00,cs0_drv:0x00,hd_drv:0x00,wp_drv:0x00\n",
      "mode:DIO, clock div:1\n",
      "load:0x3fff0030,len:6940\n",
      "ho 0 tail 12 room 4\n",
      "load:0x40078000,len:15500\n",
      "load:0x40080400,len:3844\n",
      "entry 0x4008064c\n",
      "\u001b[0;32mI (29) boot: ESP-IDF 5.0.1 2nd stage bootloader\u001b[0m\n",
      "\u001b[0;32mI (29) boot: compile time 10:44:23\u001b[0m\n",
      "\u001b[0;32mI (29) boot: chip revision: v1.0\u001b[0m\n",
      "\u001b[0;32mI (32) boot.esp32: SPI Speed      : 80MHz\u001b[0m\n",
      "\u001b[0;32mI (37) boot.esp32: SPI Mode       : DIO\u001b[0m\n",
      "\u001b[0;32mI (41) boot.esp32: SPI Flash Size : 4MB\u001b[0m\n",
      "\u001b[0;32mI (46) boot: Enabling RNG early entropy source...\u001b[0m\n",
      "\u001b[0;32mI (51) boot: Partition Table:\u001b[0m\n",
      "\u001b[0;32mI (55) boot: ## Label            Usage          Type ST Offset   Length\u001b[0m\n",
      "\u001b[0;32mI (62) boot:  0 nvs              WiFi data        01 02 00009000 00006000\u001b[0m\n",
      "\u001b[0;32mI (69) boot:  1 phy_init         RF data          01 01 0000f000 00001000\u001b[0m\n",
      "\u001b[0;32mI (77) boot:  2 factory          factory app      00 00 00010000 00100000\u001b[0m\n",
      "\u001b[0;32mI (84) boot: End of partition table\u001b[0m\n",
      "\u001b[0;32mI (88) esp_image: segment 0: paddr=00010020 vaddr=3f400020 size=0cfa4h ( 53156) map\u001b[0m\n",
      "\u001b[0;32mI (113) esp_image: segment 1: paddr=0001cfcc vaddr=3ffb0000 size=02028h (  8232) load\u001b[0m\n",
      "\u001b[0;32mI (116) esp_image: segment 2: paddr=0001effc vaddr=40080000 size=0101ch (  4124) load\u001b[0m\n",
      "\u001b[0;32mI (120) esp_image: segment 3: paddr=00020020 vaddr=400d0020 size=2785ch (161884) map\u001b[0m\n",
      "\u001b[0;32mI (176) esp_image: segment 4: paddr=00047884 vaddr=4008101c size=0d21ch ( 53788) load\u001b[0m\n",
      "\u001b[0;32mI (202) boot: Loaded app from partition at offset 0x10000\u001b[0m\n",
      "\u001b[0;32mI (202) boot: Disabling RNG early entropy source...\u001b[0m\n",
      "\u001b[0;32mI (214) cpu_start: Pro cpu up.\u001b[0m\n",
      "\u001b[0;32mI (214) cpu_start: Starting app cpu, entry point is 0x40082294\u001b[0m\n",
      "\u001b[0;32mI (200) cpu_start: App cpu up.\u001b[0m\n",
      "\u001b[0;32mI (228) cpu_start: Pro cpu start user code\u001b[0m\n",
      "\u001b[0;32mI (228) cpu_start: cpu freq: 160000000 Hz\u001b[0m\n",
      "\u001b[0;32mI (228) cpu_start: Application information:\u001b[0m\n",
      "\u001b[0;32mI (233) cpu_start: Project name:     Uebung\u001b[0m\n",
      "\u001b[0;32mI (238) cpu_start: App version:      eabbb28-dirty\u001b[0m\n",
      "\u001b[0;32mI (243) cpu_start: Compile time:     May 12 2023 10:40:02\u001b[0m\n",
      "\u001b[0;32mI (250) cpu_start: ELF file SHA256:  1d5a5adc28eaf792...\u001b[0m\n",
      "\u001b[0;32mI (256) cpu_start: ESP-IDF:          5.0.1\u001b[0m\n",
      "\u001b[0;32mI (260) cpu_start: Min chip rev:     v0.0\u001b[0m\n",
      "\u001b[0;32mI (265) cpu_start: Max chip rev:     v3.99 \u001b[0m\n",
      "\u001b[0;32mI (270) cpu_start: Chip rev:         v1.0\u001b[0m\n",
      "\u001b[0;32mI (275) heap_init: Initializing. RAM available for dynamic allocation:\u001b[0m\n",
      "\u001b[0;32mI (282) heap_init: At 3FFAE6E0 len 00001920 (6 KiB): DRAM\u001b[0m\n",
      "\u001b[0;32mI (288) heap_init: At 3FFB2A38 len 0002D5C8 (181 KiB): DRAM\u001b[0m\n",
      "\u001b[0;32mI (294) heap_init: At 3FFE0440 len 00003AE0 (14 KiB): D/IRAM\u001b[0m\n",
      "\u001b[0;32mI (300) heap_init: At 3FFE4350 len 0001BCB0 (111 KiB): D/IRAM\u001b[0m\n",
      "\u001b[0;32mI (307) heap_init: At 4008E238 len 00011DC8 (71 KiB): IRAM\u001b[0m\n",
      "\u001b[0;32mI (314) spi_flash: detected chip: generic\u001b[0m\n",
      "\u001b[0;32mI (318) spi_flash: flash io: dio\u001b[0m\n",
      "\u001b[0;32mI (322) cpu_start: Starting scheduler on PRO CPU.\u001b[0m\n",
      "\u001b[0;32mI (0) cpu_start: Starting scheduler on APP CPU.\u001b[0m\n",
      "\u001b[5n\n",
      "Type 'help' to get the list of commands.\n",
      "Use UP/DOWN arrows to navigate through command history.\n",
      "Press TAB when typing command name to auto-complete.\n",
      "\n",
      "Your terminal application does not support escape sequences.\n",
      "\n",
      "Line editing and history features are disabled.\n",
      "\n",
      "On Windows, try using Putty instead.\n",
      "esp> print_mode -m RAW\n",
      "Print mode set to RAW\n",
      "esp> \n"
     ]
    }
   ],
   "source": [
    "from pmu_som import communicator\n",
    "\n",
    "c = communicator.communicator(True)"
   ]
  },
  {
   "cell_type": "code",
   "execution_count": 2,
   "metadata": {},
   "outputs": [
    {
     "name": "stdout",
     "output_type": "stream",
     "text": [
      "CDE#10]\n"
     ]
    },
    {
     "data": {
      "text/plain": [
       "3294"
      ]
     },
     "execution_count": 2,
     "metadata": {},
     "output_type": "execute_result"
    }
   ],
   "source": [
    "c.command(\"adc_read -r 7 -l 16\")"
   ]
  },
  {
   "cell_type": "code",
   "execution_count": 3,
   "metadata": {},
   "outputs": [],
   "source": [
    "del c"
   ]
  },
  {
   "cell_type": "code",
   "execution_count": 7,
   "metadata": {},
   "outputs": [
    {
     "data": {
      "text/plain": [
       "[0, 1, 2, 3, 4, 5, 6, 7, 8, 9]"
      ]
     },
     "execution_count": 7,
     "metadata": {},
     "output_type": "execute_result"
    }
   ],
   "source": [
    "test = [0,1,2,3,4,5,6,7,8,9]\n",
    "t_sl = slice(0,10)\n",
    "\n",
    "test[t_sl]"
   ]
  },
  {
   "cell_type": "code",
   "execution_count": null,
   "metadata": {},
   "outputs": [],
   "source": []
  }
 ],
 "metadata": {
  "kernelspec": {
   "display_name": "venv_risc",
   "language": "python",
   "name": "venv_risc"
  },
  "language_info": {
   "codemirror_mode": {
    "name": "ipython",
    "version": 3
   },
   "file_extension": ".py",
   "mimetype": "text/x-python",
   "name": "python",
   "nbconvert_exporter": "python",
   "pygments_lexer": "ipython3",
   "version": "3.7.7"
  },
  "orig_nbformat": 4
 },
 "nbformat": 4,
 "nbformat_minor": 2
}
