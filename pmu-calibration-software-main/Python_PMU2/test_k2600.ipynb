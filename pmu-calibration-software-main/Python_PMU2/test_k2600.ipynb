{
 "cells": [
  {
   "cell_type": "code",
   "execution_count": 2,
   "metadata": {},
   "outputs": [],
   "source": [
    "# GPIB0::17::INSTR\n",
    "\n",
    "from keithley2600 import Keithley2600\n",
    "\n",
    "k = Keithley2600('GPIB0::17::INSTR', visa_library='')"
   ]
  },
  {
   "cell_type": "code",
   "execution_count": 13,
   "metadata": {},
   "outputs": [],
   "source": [
    "k.smua.source.output = k.smua.OUTPUT_ON   # turn on SMUA\n",
    "k.smua.source.levelv = -40  # sets SMUA source level to -40V\n",
    "v = k.smua.measure.v()  # measures and returns the SMUA voltage\n",
    "i = k.smua.measure.i()  # measures current at smuA\n",
    "\n",
    "k.smua.source.output = k.smua.OUTPUT_HIGH_Z\n"
   ]
  },
  {
   "cell_type": "code",
   "execution_count": 14,
   "metadata": {},
   "outputs": [
    {
     "data": {
      "text/plain": [
       "(-1.3113e-13, 0.000700951)"
      ]
     },
     "execution_count": 14,
     "metadata": {},
     "output_type": "execute_result"
    }
   ],
   "source": [
    "k.smua.measure.iv()"
   ]
  },
  {
   "cell_type": "code",
   "execution_count": null,
   "metadata": {},
   "outputs": [],
   "source": []
  }
 ],
 "metadata": {
  "kernelspec": {
   "display_name": "pmu_drv",
   "language": "python",
   "name": "python3"
  },
  "language_info": {
   "codemirror_mode": {
    "name": "ipython",
    "version": 3
   },
   "file_extension": ".py",
   "mimetype": "text/x-python",
   "name": "python",
   "nbconvert_exporter": "python",
   "pygments_lexer": "ipython3",
   "version": "3.10.11"
  },
  "orig_nbformat": 4
 },
 "nbformat": 4,
 "nbformat_minor": 2
}
