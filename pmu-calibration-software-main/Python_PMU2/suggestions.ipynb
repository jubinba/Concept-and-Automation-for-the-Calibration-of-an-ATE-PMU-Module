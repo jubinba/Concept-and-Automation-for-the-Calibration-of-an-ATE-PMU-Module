{
 "cells": [
  {
   "cell_type": "code",
   "execution_count": null,
   "id": "99dd36e9-ecc1-472a-b8d5-1a3b5e69a79f",
   "metadata": {},
   "outputs": [],
   "source": [
    "pmu_ch = p.channels[ch]\n"
   ]
  },
  {
   "cell_type": "code",
   "execution_count": null,
   "id": "04494a25-3445-4dd4-ad3d-7a0957583416",
   "metadata": {},
   "outputs": [],
   "source": [
    "## make a seperate fuction for all  the calculation for eg: pmu calc.dac_to_v\n",
    "                                                        #   pmu calc.v_to_dac\n"
   ]
  },
  {
   "cell_type": "code",
   "execution_count": 1,
   "id": "6164d6be-ee35-4002-a85e-510f291db62b",
   "metadata": {},
   "outputs": [],
   "source": [
    "## create a seperate function for measure and read it when required\n",
    "# if v, i , else error\n",
    "# store the values into an array , and return the array\n",
    "# TOM has not returned the array, he has calculated the mean of the array and returned the mean\n"
   ]
  },
  {
   "cell_type": "code",
   "execution_count": 2,
   "id": "37522608-64fa-46e7-89f3-176bab925577",
   "metadata": {},
   "outputs": [
    {
     "name": "stdout",
     "output_type": "stream",
     "text": [
      "50.000762951094835\n"
     ]
    }
   ],
   "source": [
    "from percentage_calculator import calculate_percentage\n",
    "\n",
    "x = 0x8000\n",
    "\n",
    "data_perc = calculate_percentage(x)\n",
    "print(data_perc)"
   ]
  },
  {
   "cell_type": "code",
   "execution_count": null,
   "id": "a43f3c9f-4800-4616-b0cd-2c344cddc67c",
   "metadata": {},
   "outputs": [],
   "source": []
  }
 ],
 "metadata": {
  "kernelspec": {
   "display_name": "Python 3 (ipykernel)",
   "language": "python",
   "name": "python3"
  },
  "language_info": {
   "codemirror_mode": {
    "name": "ipython",
    "version": 3
   },
   "file_extension": ".py",
   "mimetype": "text/x-python",
   "name": "python",
   "nbconvert_exporter": "python",
   "pygments_lexer": "ipython3",
   "version": "3.10.11"
  }
 },
 "nbformat": 4,
 "nbformat_minor": 5
}
