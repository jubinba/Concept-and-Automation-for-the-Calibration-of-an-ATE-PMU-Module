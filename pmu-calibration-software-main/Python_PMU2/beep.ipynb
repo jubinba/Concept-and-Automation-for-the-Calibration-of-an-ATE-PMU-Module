{
 "cells": [
  {
   "cell_type": "code",
   "execution_count": 2,
   "id": "7362558e-e98a-4070-b704-3cb790554beb",
   "metadata": {},
   "outputs": [],
   "source": [
    "from keithley2600 import Keithley2600\n",
    "from pmu_som import communicator, pmu_ctrl, pmu_cal\n",
    "from time import sleep\n",
    "import numpy as np\n",
    "from matplotlib import pyplot as plt\n",
    "from tqdm import tqdm\n",
    "\n",
    "try:\n",
    "    del(p.c)\n",
    "except:\n",
    "    pass\n",
    "\n",
    "k = Keithley2600('GPIB0::17::INSTR', visa_library='')\n",
    "k.smua.reset()\n",
    "k.smub.reset()\n",
    "\n",
    "# p = communicator.communicator(False)\n",
    "#p = pmu_ctrl.pmu()\n",
    "\n",
    "\n"
   ]
  },
  {
   "cell_type": "code",
   "execution_count": 10,
   "id": "b443fa0d-c2b5-4922-8d67-fc9a1a138c78",
   "metadata": {},
   "outputs": [],
   "source": [
    "k.beeper.enable = k.beeper.ON\n",
    "k.beeper.beep(0.5,500)\n",
    "k.beeper.enable = k.beeper.OFF"
   ]
  },
  {
   "cell_type": "code",
   "execution_count": null,
   "id": "17585064-5a36-464c-9db3-0f0759f7351f",
   "metadata": {},
   "outputs": [],
   "source": []
  }
 ],
 "metadata": {
  "kernelspec": {
   "display_name": "Python 3 (ipykernel)",
   "language": "python",
   "name": "python3"
  },
  "language_info": {
   "codemirror_mode": {
    "name": "ipython",
    "version": 3
   },
   "file_extension": ".py",
   "mimetype": "text/x-python",
   "name": "python",
   "nbconvert_exporter": "python",
   "pygments_lexer": "ipython3",
   "version": "3.10.11"
  }
 },
 "nbformat": 4,
 "nbformat_minor": 5
}
