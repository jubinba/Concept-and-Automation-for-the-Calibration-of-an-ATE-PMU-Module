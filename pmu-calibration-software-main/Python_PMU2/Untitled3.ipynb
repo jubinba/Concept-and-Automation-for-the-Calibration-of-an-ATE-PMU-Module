{
 "cells": [
  {
   "cell_type": "code",
   "execution_count": 2,
   "id": "a0ed2ecc-ba22-4574-860d-54c4a4fcb92a",
   "metadata": {},
   "outputs": [
    {
     "ename": "ModuleNotFoundError",
     "evalue": "No module named 'test_pmu_to_smu'",
     "output_type": "error",
     "traceback": [
      "\u001b[1;31m---------------------------------------------------------------------------\u001b[0m",
      "\u001b[1;31mModuleNotFoundError\u001b[0m                       Traceback (most recent call last)",
      "Cell \u001b[1;32mIn[2], line 1\u001b[0m\n\u001b[1;32m----> 1\u001b[0m \u001b[38;5;28;01mfrom\u001b[39;00m \u001b[38;5;21;01mtest_pmu_to_smu\u001b[39;00m \u001b[38;5;28;01mimport\u001b[39;00m p\n",
      "\u001b[1;31mModuleNotFoundError\u001b[0m: No module named 'test_pmu_to_smu'"
     ]
    }
   ],
   "source": [
    "from test_pmu_to_smu import p"
   ]
  },
  {
   "cell_type": "code",
   "execution_count": null,
   "id": "c8b8a703-4a14-48c7-aabb-ad4801b46677",
   "metadata": {},
   "outputs": [],
   "source": []
  }
 ],
 "metadata": {
  "kernelspec": {
   "display_name": "Python 3 (ipykernel)",
   "language": "python",
   "name": "python3"
  },
  "language_info": {
   "codemirror_mode": {
    "name": "ipython",
    "version": 3
   },
   "file_extension": ".py",
   "mimetype": "text/x-python",
   "name": "python",
   "nbconvert_exporter": "python",
   "pygments_lexer": "ipython3",
   "version": "3.10.11"
  }
 },
 "nbformat": 4,
 "nbformat_minor": 5
}
