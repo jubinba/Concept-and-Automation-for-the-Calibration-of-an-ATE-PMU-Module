{
 "cells": [
  {
   "cell_type": "code",
   "execution_count": 1,
   "id": "48290fc2-c445-45f7-9c8f-3e6cfdbb78eb",
   "metadata": {},
   "outputs": [
    {
     "name": "stdout",
     "output_type": "stream",
     "text": [
      "Expected Clamping : -0.0011137500000000002\n",
      "Measured Clamping : 0.000988751\n",
      "Expected Clamping : -0.0007425075531005859\n",
      "Measured Clamping : 0.000612653\n",
      "Expected Clamping : -0.00037126510620117184\n",
      "Measured Clamping : 0.000236308\n",
      "Expected Clamping : -2.2659301757730066e-08\n",
      "Measured Clamping : -0.00014066\n",
      "Expected Clamping : 0.0003712197875976564\n",
      "Measured Clamping : -0.000517952\n",
      "Expected Clamping : 0.0007424622344970702\n",
      "Measured Clamping : -0.000895038\n",
      "Expected Clamping : 0.0011137046813964847\n",
      "Measured Clamping : -0.00127181\n",
      "Expected Clamping : 0.001484947128295899\n",
      "Measured Clamping : -0.00164873\n",
      "Expected Clamping : 0.001856189575195313\n",
      "Measured Clamping : -0.00202565\n",
      "Expected Clamping : 0.0022274320220947268\n",
      "Measured Clamping : -0.00240291\n",
      "   Measured Clamping   Expected Clamping \n",
      "0            0.000989       -1.113750e-03\n",
      "1            0.000613       -7.425076e-04\n",
      "2            0.000236       -3.712651e-04\n",
      "3           -0.000141       -2.265930e-08\n",
      "4           -0.000518        3.712198e-04\n",
      "5           -0.000895        7.424622e-04\n",
      "6           -0.001272        1.113705e-03\n",
      "7           -0.001649        1.484947e-03\n",
      "8           -0.002026        1.856190e-03\n",
      "9           -0.002403        2.227432e-03\n"
     ]
    }
   ],
   "source": [
    "from keithley2600 import Keithley2600\n",
    "from pmu_som import communicator, pmu_ctrl, pmu_cal\n",
    "from time import sleep\n",
    "import numpy as np\n",
    "from matplotlib import pyplot as plt\n",
    "from tqdm import tqdm\n",
    "import pandas as pd\n",
    "\n",
    "\n",
    "try:\n",
    "    del(p.c)\n",
    "except:\n",
    "    pass\n",
    "\n",
    "k = Keithley2600('GPIB0::17::INSTR', visa_library='')\n",
    "#k.smua.source.output = k.smua.OUTPUT_OFF\n",
    "\n",
    "k.smua.reset()\n",
    "k.smub.reset()\n",
    "\n",
    "# p = communicator.communicator(False)\n",
    "p = pmu_ctrl.pmu()\n",
    "\n",
    "p.channels[0].change_pmu_reg({\n",
    "    \"CH EN\" : 0\n",
    "})\n",
    "\n",
    "k.display.screen = k.display.SMUA\n",
    "k.display.smua.measure.func = k.display.MEASURE_DCAMPS\n",
    "\n",
    "k.smua.measure.nplc = 1\n",
    "k.smua.measure.autorangei = k.smua.AUTORANGE_ON\n",
    "k.smua.measure.autorangev = k.smua.AUTORANGE_ON\n",
    "\n",
    "k.smua.source.limiti = ((2e-3)*2)\n",
    "k.smua.source.limitv = 20\n",
    "k.smua.source.func = k.smua.OUTPUT_DCVOLTS\n",
    "k.smua.source.levelv = 0\n",
    "k.smua.source.output = k.smua.OUTPUT_ON\n",
    "\n",
    "p.change_sys_ctrl({\n",
    "    \"DUTGND/CH\" : 1,\n",
    "    \"INT10K\"    : 1,\n",
    "    \"GAIN\"      : 2,\n",
    "    \"TMP ENABLE\": 1,\n",
    "    \"TMP\"       : 3 # Thermal shutdown at 100°C\n",
    "    })\n",
    "\n",
    "\n",
    "p.channels[0].change_pmu_reg({\n",
    "    \"CH EN\" : 1, # enable the channel\n",
    "    \"FORCE\" : 0, # force voltage clamp current\n",
    "    \"SS0\"  : 1,\n",
    "    \"SF0\"  : 1,\n",
    "    \"FIN\"  : 1,\n",
    "    \"C\"    : 3,\n",
    "    \"CL\"   : 1\n",
    "    })\n",
    "\n",
    "\n",
    "overlap = 0.5\n",
    "num =10\n",
    "\n",
    "measure_points = np.linspace(round(0x8000-(0x8000*overlap)), 0xFFFF, num)\n",
    "val = 5\n",
    "offset_dac = 0xA492\n",
    "VREF = 4.95\n",
    "DAC_C = round(((val * (2**16) / VREF) + (3.5*offset_dac)) / 4.5)\n",
    "\n",
    "\n",
    "\n",
    "measure_delay = 0.1\n",
    "\n",
    "\n",
    "## This code is only for clamp low\n",
    "## Writing the DAC CODE equivalent to 5V output at \"FIN U\"\n",
    "p.channels[0].write_dac(\n",
    "    data = 0xDAC_C,\n",
    "    dac_reg = \"FIN_U\",\n",
    "    reg = \"X1\"\n",
    "    )\n",
    "\n",
    "## Writing the clamp high as FFFF\n",
    "p.channels [0].write_dac(\n",
    "    data = 0x0000,\n",
    "    dac_reg = \"CLL_I\",\n",
    "    reg = \"X1\"\n",
    ")\n",
    "\n",
    "dac_regi = \"CLH_I\"\n",
    "clamp_measured_values = []\n",
    "clamp_expected_values = []\n",
    "\n",
    "## Clamping Function (Function for Clamping)\n",
    "## Clamping from 0x7fff(32767) to 0x000 for an input voltage of 5v (FIN U)\n",
    "\n",
    "\n",
    "\n",
    "for d in measure_points :\n",
    "    p.channels[0].write_dac(\n",
    "        data = round(d),\n",
    "        dac_reg = dac_regi,\n",
    "        reg = \"X1\"\n",
    "    )\n",
    "    sleep(measure_delay)\n",
    "    clamp_measured = k.smua.measure.i()\n",
    "    clamp_measured_values.append(clamp_measured)\n",
    "    val = d\n",
    "    rsens = 500\n",
    "    MI_GAIN =10\n",
    "    clamp_expected = (4.5 * VREF * (val-(2**15))) / ((2**16)*rsens*MI_GAIN)\n",
    "    clamp_expected_values.append(clamp_expected)\n",
    "    print(\"Expected Clamping :\",clamp_expected)\n",
    "    print(\"Measured Clamping :\",clamp_measured)\n",
    "    \n",
    "    \n",
    "\n",
    "p.channels[0].change_pmu_reg({\n",
    "    \"CH EN\" :0\n",
    "})\n",
    "\n",
    "k.smua.source.output = k.smua.OUTPUT_OFF\n",
    "df = pd.DataFrame({\n",
    "    \"Measured Clamping \" : clamp_measured_values,\n",
    "    \"Expected Clamping \" : clamp_expected_values \n",
    "})\n",
    "\n",
    "print(df)\n",
    " "
   ]
  },
  {
   "cell_type": "code",
   "execution_count": 2,
   "id": "e211e105-45b8-4b77-8aa3-6a2368b4bbf7",
   "metadata": {},
   "outputs": [
    {
     "data": {
      "text/plain": [
       "(array([-1.11375000e-03, -7.42507553e-04, -3.71265106e-04, -2.26593018e-08,\n",
       "         3.71219788e-04,  7.42462234e-04,  1.11370468e-03,  1.48494713e-03,\n",
       "         1.85618958e-03,  2.22743202e-03]),\n",
       " array([ 0.00098884,  0.00061276,  0.00023639, -0.00014058, -0.00051788,\n",
       "        -0.00089499, -0.00127159, -0.00164852, -0.00202552, -0.00240274]))"
      ]
     },
     "execution_count": 2,
     "metadata": {},
     "output_type": "execute_result"
    }
   ],
   "source": [
    "pmu_cal.measureCL_I(p, k, 0, range = \"2m\", voltage= 5, clamp_side='H', overlap=0.5, num=10, measure_delay = 0.1)"
   ]
  },
  {
   "cell_type": "code",
   "execution_count": 13,
   "id": "442b457e-8d8a-4ba1-8dbc-9f95fe3888c4",
   "metadata": {},
   "outputs": [
    {
     "data": {
      "text/plain": [
       "(array([-5.56867447e+00, -3.71246223e+00, -1.85625000e+00, -3.77655029e-05,\n",
       "         1.85617447e+00,  3.71238670e+00,  5.56859894e+00,  7.42481117e+00,\n",
       "         9.28102341e+00,  1.11372356e+01]),\n",
       " array([-5.51628 , -3.64343 , -1.77027 ,  0.103221,  1.97654 ,  3.84971 ,\n",
       "         5.72328 ,  7.59483 ,  9.4675  , 11.3407  ]))"
      ]
     },
     "execution_count": 13,
     "metadata": {},
     "output_type": "execute_result"
    }
   ],
   "source": [
    "pmu_cal.measureCL_U(p, k, 0, range = \"2m\", current_range_factor=0.5, clamp_side='H', overlap=0.5, num=10, measure_delay = 0.1)"
   ]
  },
  {
   "cell_type": "code",
   "execution_count": null,
   "id": "16904519-c39b-4944-a572-77dbd9b34c20",
   "metadata": {},
   "outputs": [],
   "source": []
  },
  {
   "cell_type": "code",
   "execution_count": 9,
   "id": "3fb9ebf1-ec2f-432c-89bc-8dd926df8aa9",
   "metadata": {},
   "outputs": [
    {
     "ename": "SyntaxError",
     "evalue": "invalid syntax (1686110656.py, line 1)",
     "output_type": "error",
     "traceback": [
      "\u001b[1;36m  Cell \u001b[1;32mIn[9], line 1\u001b[1;36m\u001b[0m\n\u001b[1;33m    pmu_cal.measureCL_U((pmu, keithley, ch, range, current_range_factor := 0.5, clamp_side :='H', overlap :=0.5, num :=100, measure_delay := 0.1):\u001b[0m\n\u001b[1;37m                                                                                                                                                 ^\u001b[0m\n\u001b[1;31mSyntaxError\u001b[0m\u001b[1;31m:\u001b[0m invalid syntax\n"
     ]
    }
   ],
   "source": [
    "pmu_cal.measureCL_U((pmu, keithley, ch, range, current_range_factor := 0.5, clamp_side :='H', overlap :=0.5, num :=100, measure_delay := 0.1):"
   ]
  }
 ],
 "metadata": {
  "kernelspec": {
   "display_name": "Python 3 (ipykernel)",
   "language": "python",
   "name": "python3"
  },
  "language_info": {
   "codemirror_mode": {
    "name": "ipython",
    "version": 3
   },
   "file_extension": ".py",
   "mimetype": "text/x-python",
   "name": "python",
   "nbconvert_exporter": "python",
   "pygments_lexer": "ipython3",
   "version": "3.10.11"
  }
 },
 "nbformat": 4,
 "nbformat_minor": 5
}
