{
 "cells": [
  {
   "cell_type": "code",
   "execution_count": 4,
   "metadata": {},
   "outputs": [
    {
     "name": "stdout",
     "output_type": "stream",
     "text": [
      "('ASRL1::INSTR', 'GPIB0::17::INSTR')\n"
     ]
    }
   ],
   "source": [
    "import pyvisa\n",
    "rm = pyvisa.ResourceManager()\n",
    "print(rm.list_resources())"
   ]
  },
  {
   "cell_type": "code",
   "execution_count": 5,
   "metadata": {},
   "outputs": [
    {
     "name": "stdout",
     "output_type": "stream",
     "text": [
      "ASRL1::INSTR\n",
      "GPIB0::17::INSTR\n",
      "\tKeithley Instruments Inc., Model 2602A, 1225207, 2.1.0\n",
      "\n",
      "\n"
     ]
    }
   ],
   "source": [
    "smu = None\n",
    "for i in rm.list_resources():\n",
    "    print(i)\n",
    "    if i.startswith(\"GPIB\"):\n",
    "        inst = rm.open_resource(i)\n",
    "        idn = inst.query(\"*IDN?\")\n",
    "        print(\"\\t%s\" %(idn))\n",
    "        if \"2602A\" in idn:\n",
    "            smu = idn\n",
    "print()\n",
    "if smu is None:\n",
    "    print(\"NO SMU FOUND\")\n",
    "        "
   ]
  },
  {
   "cell_type": "code",
   "execution_count": 10,
   "metadata": {},
   "outputs": [
    {
     "data": {
      "text/plain": [
       "25"
      ]
     },
     "execution_count": 10,
     "metadata": {},
     "output_type": "execute_result"
    }
   ],
   "source": [
    "inst.write(\"beeper.enable = beeper.ON\")\n",
    "inst.write(\"beeper.beep(0.1, 2400)\")"
   ]
  },
  {
   "cell_type": "code",
   "execution_count": 11,
   "metadata": {},
   "outputs": [
    {
     "data": {
      "text/plain": [
       "24"
      ]
     },
     "execution_count": 11,
     "metadata": {},
     "output_type": "execute_result"
    }
   ],
   "source": [
    "inst.write(\"smua.reset()\")\n",
    "\n",
    "inst.write(\"smua.source.autorangev = 1\")\n",
    "inst.write(\"smua.source.levelv = 0\")\n",
    "inst.write(\"smua.source.limiti = 2e-3\")\n",
    "\n",
    "inst.write(\"smua.measure.count = 5\")\n",
    "\n",
    "\n",
    "inst.write(\"smua.source.output = 1\")\n",
    "\n",
    "\n",
    "# inst.write(\"smua.measure.autorangei = 1\")\n"
   ]
  },
  {
   "cell_type": "code",
   "execution_count": 28,
   "metadata": {},
   "outputs": [
    {
     "data": {
      "text/plain": [
       "'-1.58274e-10, -4.00014e+01\\n'"
      ]
     },
     "execution_count": 28,
     "metadata": {},
     "output_type": "execute_result"
    }
   ],
   "source": [
    "inst.query(\"printnumber(smua.measure.iv())\")"
   ]
  },
  {
   "cell_type": "code",
   "execution_count": null,
   "metadata": {},
   "outputs": [],
   "source": []
  }
 ],
 "metadata": {
  "kernelspec": {
   "display_name": "pmu_drv",
   "language": "python",
   "name": "python3"
  },
  "language_info": {
   "codemirror_mode": {
    "name": "ipython",
    "version": 3
   },
   "file_extension": ".py",
   "mimetype": "text/x-python",
   "name": "python",
   "nbconvert_exporter": "python",
   "pygments_lexer": "ipython3",
   "version": "3.10.11"
  },
  "orig_nbformat": 4
 },
 "nbformat": 4,
 "nbformat_minor": 2
}
